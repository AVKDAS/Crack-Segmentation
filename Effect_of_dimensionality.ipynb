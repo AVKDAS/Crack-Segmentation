{
  "nbformat": 4,
  "nbformat_minor": 0,
  "metadata": {
    "colab": {
      "name": "Effect of dimensionality.ipynb",
      "provenance": []
    },
    "kernelspec": {
      "name": "python3",
      "display_name": "Python 3"
    }
  },
  "cells": [
    {
      "cell_type": "code",
      "metadata": {
        "id": "d2Gc7wo-4aC8",
        "colab_type": "code",
        "outputId": "b1fcc3b4-97aa-4efd-c3f0-10151032fa3d",
        "colab": {
          "base_uri": "https://localhost:8080/",
          "height": 85
        }
      },
      "source": [
        "from time import time\n",
        "import numpy as np\n",
        "import matplotlib.pyplot as plt\n",
        "from matplotlib import offsetbox\n",
        "from sklearn import (manifold, datasets, decomposition, ensemble,\n",
        "                     discriminant_analysis, random_projection, neighbors)\n",
        "!pip install hdf5storage\n",
        "import hdf5storage\n",
        "from sklearn.model_selection import train_test_split\n",
        "from matplotlib import offsetbox\n",
        "from sklearn import (manifold, datasets, decomposition, ensemble,\n",
        "                     discriminant_analysis, random_projection, neighbors)\n",
        "from sklearn.neighbors import KNeighborsClassifier\n",
        "from sklearn.metrics import classification_report, confusion_matrix"
      ],
      "execution_count": 0,
      "outputs": [
        {
          "output_type": "stream",
          "text": [
            "Requirement already satisfied: hdf5storage in /usr/local/lib/python3.6/dist-packages (0.1.15)\n",
            "Requirement already satisfied: numpy; python_version >= \"3.4\" in /usr/local/lib/python3.6/dist-packages (from hdf5storage) (1.18.4)\n",
            "Requirement already satisfied: h5py>=2.1; python_version >= \"3.3\" in /usr/local/lib/python3.6/dist-packages (from hdf5storage) (2.10.0)\n",
            "Requirement already satisfied: six in /usr/local/lib/python3.6/dist-packages (from h5py>=2.1; python_version >= \"3.3\"->hdf5storage) (1.12.0)\n"
          ],
          "name": "stdout"
        }
      ]
    },
    {
      "cell_type": "code",
      "metadata": {
        "id": "Hi4zhBTO4dQw",
        "colab_type": "code",
        "outputId": "7ef0a9ab-180e-439e-d295-cc444faa7cf9",
        "colab": {
          "base_uri": "https://localhost:8080/",
          "height": 34
        }
      },
      "source": [
        "from google.colab import drive\n",
        "drive.mount('/content/drive')"
      ],
      "execution_count": 0,
      "outputs": [
        {
          "output_type": "stream",
          "text": [
            "Drive already mounted at /content/drive; to attempt to forcibly remount, call drive.mount(\"/content/drive\", force_remount=True).\n"
          ],
          "name": "stdout"
        }
      ]
    },
    {
      "cell_type": "code",
      "metadata": {
        "id": "seGPb3sR4zrT",
        "colab_type": "code",
        "colab": {}
      },
      "source": [
        "Data_Foldername = '/content/drive/My Drive/CSIC Project'\n",
        "\n",
        "Data_X =    \"%s/file.mat\" % (Data_Foldername)\n",
        "Dala_Y =    \"%s/label.mat\" % (Data_Foldername)\n",
        "\n",
        "X=hdf5storage.loadmat(Data_X)\n",
        "Y=hdf5storage.loadmat(Dala_Y)\n",
        "X1=X['Files']\n",
        "Y1=Y['label']"
      ],
      "execution_count": 0,
      "outputs": []
    },
    {
      "cell_type": "code",
      "metadata": {
        "id": "nucswFtg4tTi",
        "colab_type": "code",
        "colab": {}
      },
      "source": [
        "def plot_embedding(X, title=None):\n",
        "\n",
        "    plt.scatter(X[:,0],X[:,1],c=Y1)\n",
        "    plt.colorbar()\n",
        "\n",
        "    if title is not None:\n",
        "        plt.title(title)"
      ],
      "execution_count": 0,
      "outputs": []
    },
    {
      "cell_type": "code",
      "metadata": {
        "id": "Mb4ArDg044WB",
        "colab_type": "code",
        "colab": {}
      },
      "source": [
        "#calculation for KNN\n",
        "def KNN(X, kn):\n",
        " X_train, X_test, y_train, y_test = train_test_split(X, Y1, test_size=0.50, random_state = 42)\n",
        " from sklearn.preprocessing import StandardScaler\n",
        " scaler = StandardScaler()\n",
        " scaler.fit(X_train)\n",
        " X_train = scaler.transform(X_train)\n",
        " X_test = scaler.transform(X_test)\n",
        " neigh = KNeighborsClassifier(n_neighbors=kn)\n",
        " neigh.fit(X_train, y_train)\n",
        " y_pred = neigh.predict(X_test)\n",
        " print(confusion_matrix(y_test, y_pred))\n",
        " print(classification_report(y_test, y_pred))"
      ],
      "execution_count": 0,
      "outputs": []
    },
    {
      "cell_type": "code",
      "metadata": {
        "id": "QTuuj8bp48aw",
        "colab_type": "code",
        "outputId": "6d21c855-e33d-4349-f86e-28aa98d62c84",
        "colab": {
          "base_uri": "https://localhost:8080/",
          "height": 1000
        }
      },
      "source": [
        "for i in range(10):\n",
        " import random\n",
        " random.seed(30)\n",
        " n_components=i*2+2\n",
        " shuffling_index =random.sample(range(Y1.size),Y1.size);\n",
        " X1 = X1[shuffling_index,:]\n",
        " Y1 =  Y1[shuffling_index,:]\n",
        " print(\"Computing MDS embedding\")\n",
        " clf = manifold.MDS(n_components, n_init=1, max_iter=100)\n",
        " t0 = time()\n",
        " X_mds = clf.fit_transform(X1)\n",
        " print(\"Done. Stress: %f \"% clf.stress_, \"number of components: %d\" %n_components)\n",
        " #plot_embedding(X_mds, \"MDS (time %.2fs)\" %     (time() - t0))\n",
        " KNN(X_mds,5)"
      ],
      "execution_count": 0,
      "outputs": [
        {
          "output_type": "stream",
          "text": [
            "Computing MDS embedding\n",
            "Done. Stress: 228831897154632.250000  number of components: 2\n",
            "[[2439   90]\n",
            " [ 141 2330]]\n",
            "              precision    recall  f1-score   support\n",
            "\n",
            "           0       0.95      0.96      0.95      2529\n",
            "           1       0.96      0.94      0.95      2471\n",
            "\n",
            "    accuracy                           0.95      5000\n",
            "   macro avg       0.95      0.95      0.95      5000\n",
            "weighted avg       0.95      0.95      0.95      5000\n",
            "\n"
          ],
          "name": "stdout"
        },
        {
          "output_type": "stream",
          "text": [
            "/usr/local/lib/python3.6/dist-packages/ipykernel_launcher.py:10: DataConversionWarning: A column-vector y was passed when a 1d array was expected. Please change the shape of y to (n_samples, ), for example using ravel().\n",
            "  # Remove the CWD from sys.path while we load stuff.\n"
          ],
          "name": "stderr"
        },
        {
          "output_type": "stream",
          "text": [
            "Computing MDS embedding\n",
            "Done. Stress: 93866456924011.500000  number of components: 4\n"
          ],
          "name": "stdout"
        },
        {
          "output_type": "stream",
          "text": [
            "/usr/local/lib/python3.6/dist-packages/ipykernel_launcher.py:10: DataConversionWarning: A column-vector y was passed when a 1d array was expected. Please change the shape of y to (n_samples, ), for example using ravel().\n",
            "  # Remove the CWD from sys.path while we load stuff.\n"
          ],
          "name": "stderr"
        },
        {
          "output_type": "stream",
          "text": [
            "[[2445   94]\n",
            " [ 151 2310]]\n",
            "              precision    recall  f1-score   support\n",
            "\n",
            "           0       0.94      0.96      0.95      2539\n",
            "           1       0.96      0.94      0.95      2461\n",
            "\n",
            "    accuracy                           0.95      5000\n",
            "   macro avg       0.95      0.95      0.95      5000\n",
            "weighted avg       0.95      0.95      0.95      5000\n",
            "\n",
            "Computing MDS embedding\n",
            "Done. Stress: 59282299676055.054688  number of components: 6\n"
          ],
          "name": "stdout"
        },
        {
          "output_type": "stream",
          "text": [
            "/usr/local/lib/python3.6/dist-packages/ipykernel_launcher.py:10: DataConversionWarning: A column-vector y was passed when a 1d array was expected. Please change the shape of y to (n_samples, ), for example using ravel().\n",
            "  # Remove the CWD from sys.path while we load stuff.\n"
          ],
          "name": "stderr"
        },
        {
          "output_type": "stream",
          "text": [
            "[[2463   59]\n",
            " [ 261 2217]]\n",
            "              precision    recall  f1-score   support\n",
            "\n",
            "           0       0.90      0.98      0.94      2522\n",
            "           1       0.97      0.89      0.93      2478\n",
            "\n",
            "    accuracy                           0.94      5000\n",
            "   macro avg       0.94      0.94      0.94      5000\n",
            "weighted avg       0.94      0.94      0.94      5000\n",
            "\n",
            "Computing MDS embedding\n",
            "Done. Stress: 44404894210026.109375  number of components: 8\n"
          ],
          "name": "stdout"
        },
        {
          "output_type": "stream",
          "text": [
            "/usr/local/lib/python3.6/dist-packages/ipykernel_launcher.py:10: DataConversionWarning: A column-vector y was passed when a 1d array was expected. Please change the shape of y to (n_samples, ), for example using ravel().\n",
            "  # Remove the CWD from sys.path while we load stuff.\n"
          ],
          "name": "stderr"
        },
        {
          "output_type": "stream",
          "text": [
            "[[2484   36]\n",
            " [ 386 2094]]\n",
            "              precision    recall  f1-score   support\n",
            "\n",
            "           0       0.87      0.99      0.92      2520\n",
            "           1       0.98      0.84      0.91      2480\n",
            "\n",
            "    accuracy                           0.92      5000\n",
            "   macro avg       0.92      0.92      0.92      5000\n",
            "weighted avg       0.92      0.92      0.92      5000\n",
            "\n",
            "Computing MDS embedding\n",
            "Done. Stress: 35647938028623.968750  number of components: 10\n"
          ],
          "name": "stdout"
        },
        {
          "output_type": "stream",
          "text": [
            "/usr/local/lib/python3.6/dist-packages/ipykernel_launcher.py:10: DataConversionWarning: A column-vector y was passed when a 1d array was expected. Please change the shape of y to (n_samples, ), for example using ravel().\n",
            "  # Remove the CWD from sys.path while we load stuff.\n"
          ],
          "name": "stderr"
        },
        {
          "output_type": "stream",
          "text": [
            "[[2469   31]\n",
            " [ 493 2007]]\n",
            "              precision    recall  f1-score   support\n",
            "\n",
            "           0       0.83      0.99      0.90      2500\n",
            "           1       0.98      0.80      0.88      2500\n",
            "\n",
            "    accuracy                           0.90      5000\n",
            "   macro avg       0.91      0.90      0.89      5000\n",
            "weighted avg       0.91      0.90      0.89      5000\n",
            "\n",
            "Computing MDS embedding\n",
            "Done. Stress: 30295503289474.457031  number of components: 12\n"
          ],
          "name": "stdout"
        },
        {
          "output_type": "stream",
          "text": [
            "/usr/local/lib/python3.6/dist-packages/ipykernel_launcher.py:10: DataConversionWarning: A column-vector y was passed when a 1d array was expected. Please change the shape of y to (n_samples, ), for example using ravel().\n",
            "  # Remove the CWD from sys.path while we load stuff.\n"
          ],
          "name": "stderr"
        },
        {
          "output_type": "stream",
          "text": [
            "[[2525   18]\n",
            " [ 586 1871]]\n",
            "              precision    recall  f1-score   support\n",
            "\n",
            "           0       0.81      0.99      0.89      2543\n",
            "           1       0.99      0.76      0.86      2457\n",
            "\n",
            "    accuracy                           0.88      5000\n",
            "   macro avg       0.90      0.88      0.88      5000\n",
            "weighted avg       0.90      0.88      0.88      5000\n",
            "\n",
            "Computing MDS embedding\n",
            "Done. Stress: 26467626957434.191406  number of components: 14\n"
          ],
          "name": "stdout"
        },
        {
          "output_type": "stream",
          "text": [
            "/usr/local/lib/python3.6/dist-packages/ipykernel_launcher.py:10: DataConversionWarning: A column-vector y was passed when a 1d array was expected. Please change the shape of y to (n_samples, ), for example using ravel().\n",
            "  # Remove the CWD from sys.path while we load stuff.\n"
          ],
          "name": "stderr"
        },
        {
          "output_type": "stream",
          "text": [
            "[[2460   16]\n",
            " [ 699 1825]]\n",
            "              precision    recall  f1-score   support\n",
            "\n",
            "           0       0.78      0.99      0.87      2476\n",
            "           1       0.99      0.72      0.84      2524\n",
            "\n",
            "    accuracy                           0.86      5000\n",
            "   macro avg       0.89      0.86      0.85      5000\n",
            "weighted avg       0.89      0.86      0.85      5000\n",
            "\n",
            "Computing MDS embedding\n",
            "Done. Stress: 23399098610988.652344  number of components: 16\n"
          ],
          "name": "stdout"
        },
        {
          "output_type": "stream",
          "text": [
            "/usr/local/lib/python3.6/dist-packages/ipykernel_launcher.py:10: DataConversionWarning: A column-vector y was passed when a 1d array was expected. Please change the shape of y to (n_samples, ), for example using ravel().\n",
            "  # Remove the CWD from sys.path while we load stuff.\n"
          ],
          "name": "stderr"
        },
        {
          "output_type": "stream",
          "text": [
            "[[2522   11]\n",
            " [ 785 1682]]\n",
            "              precision    recall  f1-score   support\n",
            "\n",
            "           0       0.76      1.00      0.86      2533\n",
            "           1       0.99      0.68      0.81      2467\n",
            "\n",
            "    accuracy                           0.84      5000\n",
            "   macro avg       0.88      0.84      0.84      5000\n",
            "weighted avg       0.88      0.84      0.84      5000\n",
            "\n",
            "Computing MDS embedding\n",
            "Done. Stress: 21332627603468.281250  number of components: 18\n"
          ],
          "name": "stdout"
        },
        {
          "output_type": "stream",
          "text": [
            "/usr/local/lib/python3.6/dist-packages/ipykernel_launcher.py:10: DataConversionWarning: A column-vector y was passed when a 1d array was expected. Please change the shape of y to (n_samples, ), for example using ravel().\n",
            "  # Remove the CWD from sys.path while we load stuff.\n"
          ],
          "name": "stderr"
        },
        {
          "output_type": "stream",
          "text": [
            "[[2520    9]\n",
            " [ 950 1521]]\n",
            "              precision    recall  f1-score   support\n",
            "\n",
            "           0       0.73      1.00      0.84      2529\n",
            "           1       0.99      0.62      0.76      2471\n",
            "\n",
            "    accuracy                           0.81      5000\n",
            "   macro avg       0.86      0.81      0.80      5000\n",
            "weighted avg       0.86      0.81      0.80      5000\n",
            "\n",
            "Computing MDS embedding\n",
            "Done. Stress: 19776883027425.519531  number of components: 20\n"
          ],
          "name": "stdout"
        },
        {
          "output_type": "stream",
          "text": [
            "/usr/local/lib/python3.6/dist-packages/ipykernel_launcher.py:10: DataConversionWarning: A column-vector y was passed when a 1d array was expected. Please change the shape of y to (n_samples, ), for example using ravel().\n",
            "  # Remove the CWD from sys.path while we load stuff.\n"
          ],
          "name": "stderr"
        },
        {
          "output_type": "stream",
          "text": [
            "[[2518    9]\n",
            " [1005 1468]]\n",
            "              precision    recall  f1-score   support\n",
            "\n",
            "           0       0.71      1.00      0.83      2527\n",
            "           1       0.99      0.59      0.74      2473\n",
            "\n",
            "    accuracy                           0.80      5000\n",
            "   macro avg       0.85      0.80      0.79      5000\n",
            "weighted avg       0.85      0.80      0.79      5000\n",
            "\n"
          ],
          "name": "stdout"
        }
      ]
    },
    {
      "cell_type": "code",
      "metadata": {
        "id": "2QDVe22D95Mh",
        "colab_type": "code",
        "colab": {}
      },
      "source": [
        ""
      ],
      "execution_count": 0,
      "outputs": []
    }
  ]
}