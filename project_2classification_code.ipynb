{
  "nbformat": 4,
  "nbformat_minor": 0,
  "metadata": {
    "colab": {
      "name": "project-2classification code.ipynb",
      "provenance": [],
      "collapsed_sections": [],
      "machine_shape": "hm"
    },
    "kernelspec": {
      "name": "python3",
      "display_name": "Python 3"
    }
  },
  "cells": [
    {
      "cell_type": "code",
      "metadata": {
        "id": "GtZV4ao0Ab5h",
        "colab_type": "code",
        "colab": {}
      },
      "source": [
        "from time import time\n",
        "import os\n",
        "import pickle\n",
        "import numpy as np\n",
        "import matplotlib.pyplot as plt\n",
        "from sklearn.model_selection import train_test_split\n",
        "from matplotlib import offsetbox\n",
        "from sklearn import (manifold, datasets, decomposition, ensemble,\n",
        "                     discriminant_analysis, random_projection, neighbors)\n",
        "from sklearn.neighbors import KNeighborsClassifier\n",
        "from sklearn.metrics import classification_report, confusion_matrix\n"
      ],
      "execution_count": 0,
      "outputs": []
    },
    {
      "cell_type": "code",
      "metadata": {
        "id": "dEqutejrHHCX",
        "colab_type": "code",
        "outputId": "0210bf17-1046-4b64-e48c-d0ad34987c29",
        "colab": {
          "base_uri": "https://localhost:8080/",
          "height": 173
        }
      },
      "source": [
        "!pip install hdf5storage\n",
        "import hdf5storage"
      ],
      "execution_count": 0,
      "outputs": [
        {
          "output_type": "stream",
          "text": [
            "Collecting hdf5storage\n",
            "\u001b[?25l  Downloading https://files.pythonhosted.org/packages/79/e0/5dd25068a231cd817265529368aca2f918049b290dcb2fd9b24ce136adf4/hdf5storage-0.1.15-py2.py3-none-any.whl (56kB)\n",
            "\r\u001b[K     |█████▊                          | 10kB 20.2MB/s eta 0:00:01\r\u001b[K     |███████████▌                    | 20kB 2.2MB/s eta 0:00:01\r\u001b[K     |█████████████████▎              | 30kB 2.8MB/s eta 0:00:01\r\u001b[K     |███████████████████████         | 40kB 2.1MB/s eta 0:00:01\r\u001b[K     |████████████████████████████▉   | 51kB 2.5MB/s eta 0:00:01\r\u001b[K     |████████████████████████████████| 61kB 2.3MB/s \n",
            "\u001b[?25hRequirement already satisfied: h5py>=2.1; python_version >= \"3.3\" in /usr/local/lib/python3.6/dist-packages (from hdf5storage) (2.10.0)\n",
            "Requirement already satisfied: numpy; python_version >= \"3.4\" in /usr/local/lib/python3.6/dist-packages (from hdf5storage) (1.18.4)\n",
            "Requirement already satisfied: six in /usr/local/lib/python3.6/dist-packages (from h5py>=2.1; python_version >= \"3.3\"->hdf5storage) (1.12.0)\n",
            "Installing collected packages: hdf5storage\n",
            "Successfully installed hdf5storage-0.1.15\n"
          ],
          "name": "stdout"
        }
      ]
    },
    {
      "cell_type": "code",
      "metadata": {
        "id": "vqqPdafeGs05",
        "colab_type": "code",
        "outputId": "1fd0661f-7d66-4e70-8128-1097a87c2466",
        "colab": {
          "base_uri": "https://localhost:8080/",
          "height": 122
        }
      },
      "source": [
        "from google.colab import drive\n",
        "drive.mount('/content/drive')"
      ],
      "execution_count": 0,
      "outputs": [
        {
          "output_type": "stream",
          "text": [
            "Go to this URL in a browser: https://accounts.google.com/o/oauth2/auth?client_id=947318989803-6bn6qk8qdgf4n4g3pfee6491hc0brc4i.apps.googleusercontent.com&redirect_uri=urn%3aietf%3awg%3aoauth%3a2.0%3aoob&response_type=code&scope=email%20https%3a%2f%2fwww.googleapis.com%2fauth%2fdocs.test%20https%3a%2f%2fwww.googleapis.com%2fauth%2fdrive%20https%3a%2f%2fwww.googleapis.com%2fauth%2fdrive.photos.readonly%20https%3a%2f%2fwww.googleapis.com%2fauth%2fpeopleapi.readonly\n",
            "\n",
            "Enter your authorization code:\n",
            "··········\n",
            "Mounted at /content/drive\n"
          ],
          "name": "stdout"
        }
      ]
    },
    {
      "cell_type": "code",
      "metadata": {
        "id": "Rqumwd3qBwJU",
        "colab_type": "code",
        "colab": {}
      },
      "source": [
        "Data_Foldername = '/content/drive/My Drive/CSIC Project'#where is all the data kept\n",
        "\n",
        "os.chdir(Data_Foldername)\n",
        "#shuf_ind=\"%s/labels_y.pkl\" % (Data_Foldername)   "
      ],
      "execution_count": 0,
      "outputs": []
    },
    {
      "cell_type": "code",
      "metadata": {
        "id": "GEBtgl4kMzMh",
        "colab_type": "code",
        "outputId": "904df45d-5069-41da-8d0c-c01f4bc19576",
        "colab": {
          "base_uri": "https://localhost:8080/",
          "height": 34
        }
      },
      "source": [
        "with open('shuffle_index', 'rb') as f:\n",
        "     shuffle_index=pickle.load(f)\n",
        "\n",
        "s_ind=np.array(shuffle_index)\n",
        "s_ind.shape\n",
        "\n"
      ],
      "execution_count": 0,
      "outputs": [
        {
          "output_type": "execute_result",
          "data": {
            "text/plain": [
              "(1, 10000)"
            ]
          },
          "metadata": {
            "tags": []
          },
          "execution_count": 8
        }
      ]
    },
    {
      "cell_type": "code",
      "metadata": {
        "id": "0V5t5AdzEyxG",
        "colab_type": "code",
        "outputId": "3682c5ac-003f-4382-8f09-f37d40db2583",
        "colab": {
          "base_uri": "https://localhost:8080/",
          "height": 34
        }
      },
      "source": [
        "with open('labels_y', 'rb') as f:\n",
        "     labels_y=pickle.load(f)\n",
        "lab_y=np.array(labels_y)\n",
        "\n",
        "label_y=lab_y[0,:,:]\n",
        "label_y.shape"
      ],
      "execution_count": 0,
      "outputs": [
        {
          "output_type": "execute_result",
          "data": {
            "text/plain": [
              "(10000, 1)"
            ]
          },
          "metadata": {
            "tags": []
          },
          "execution_count": 9
        }
      ]
    },
    {
      "cell_type": "code",
      "metadata": {
        "id": "BKTtT7OGM4ee",
        "colab_type": "code",
        "outputId": "b678ab32-f44d-488b-c83f-8038259f3953",
        "colab": {
          "base_uri": "https://localhost:8080/",
          "height": 34
        }
      },
      "source": [
        "with open('PCA_MDS_ISOMAP', 'rb') as f:\n",
        "     PCA_MDS_ISOMAP=pickle.load(f) \n",
        "\n",
        "PMI=np.array(PCA_MDS_ISOMAP)\n",
        "PCA=PMI[0,:,:]\n",
        "MDS=PMI[1,:,:]\n",
        "ISOMAP=PMI[2,:,:]\n",
        "PCA.shape"
      ],
      "execution_count": 0,
      "outputs": [
        {
          "output_type": "execute_result",
          "data": {
            "text/plain": [
              "(10000, 2)"
            ]
          },
          "metadata": {
            "tags": []
          },
          "execution_count": 10
        }
      ]
    },
    {
      "cell_type": "code",
      "metadata": {
        "id": "uchjnxH4YOdU",
        "colab_type": "code",
        "colab": {}
      },
      "source": [
        "def plot_embedding(X, title=None):\n",
        "\n",
        "    plt.scatter(X[:,0],X[:,1],c=label_y)\n",
        "    plt.colorbar()\n",
        "\n",
        "    if title is not None:\n",
        "        plt.title(title)"
      ],
      "execution_count": 0,
      "outputs": []
    },
    {
      "cell_type": "code",
      "metadata": {
        "id": "aWsK1Y7qM8SU",
        "colab_type": "code",
        "colab": {}
      },
      "source": [
        "#calculation for KNN\n",
        "def KNN(X, kn):\n",
        " X_train, X_test, y_train, y_test = train_test_split(X, label_y, test_size=0.20, random_state = 42)\n",
        " from sklearn.preprocessing import StandardScaler\n",
        " scaler = StandardScaler()\n",
        " scaler.fit(X_train)\n",
        " X_train = scaler.transform(X_train)\n",
        " X_test = scaler.transform(X_test)\n",
        " neigh = KNeighborsClassifier(n_neighbors=kn)\n",
        " neigh.fit(X_train, y_train)\n",
        " y_pred = neigh.predict(X_test)\n",
        " print(confusion_matrix(y_test, y_pred))\n",
        " print(classification_report(y_test, y_pred))"
      ],
      "execution_count": 0,
      "outputs": []
    },
    {
      "cell_type": "code",
      "metadata": {
        "id": "XLyySo5FjJuy",
        "colab_type": "code",
        "colab": {}
      },
      "source": [
        "#calculation for SVM\n",
        "def SVM(X, ker):\n",
        " X_train, X_test, y_train, y_test = train_test_split(X, label_y, test_size=0.20,random_state = 42)\n",
        " from sklearn.preprocessing import StandardScaler\n",
        " scaler = StandardScaler()\n",
        " scaler.fit(X_train)\n",
        " X_train = scaler.transform(X_train)\n",
        " X_test = scaler.transform(X_test)\n",
        " from sklearn.svm import SVC\n",
        " svclassifier = SVC(kernel=ker)\n",
        " svclassifier.fit(X_train, y_train)\n",
        " y_pred =svclassifier.predict(X_test)\n",
        " print(confusion_matrix(y_test, y_pred))\n",
        " print(classification_report(y_test, y_pred))"
      ],
      "execution_count": 0,
      "outputs": []
    },
    {
      "cell_type": "code",
      "metadata": {
        "id": "3lsd7CXak6Lj",
        "colab_type": "code",
        "colab": {}
      },
      "source": [
        "#calculation for Decision Trees\n",
        "def DT(X):\n",
        " X_train, X_test, y_train, y_test = train_test_split(X, label_y, test_size=0.20, random_state = 42)\n",
        "#  from sklearn.preprocessing import StandardScaler\n",
        "#  scaler = StandardScaler()\n",
        "#  scaler.fit(X_train)\n",
        "#  X_train = scaler.transform(X_train)\n",
        "#  X_test = scaler.transform(X_test)\n",
        " from sklearn.tree import DecisionTreeClassifier\n",
        " classifier = DecisionTreeClassifier()\n",
        " classifier.fit(X_train, y_train)\n",
        " y_pred = classifier.predict(X_test)\n",
        " print(confusion_matrix(y_test, y_pred))\n",
        " print(classification_report(y_test, y_pred))"
      ],
      "execution_count": 0,
      "outputs": []
    },
    {
      "cell_type": "code",
      "metadata": {
        "id": "4Wkkuykym5fn",
        "colab_type": "code",
        "colab": {}
      },
      "source": [
        "#calculation for Logistic Regression\n",
        "def LR(X):\n",
        " X_train, X_test, y_train, y_test = train_test_split(X, label_y, test_size=0.20, random_state = 42)\n",
        " from sklearn.preprocessing import StandardScaler\n",
        " sc = StandardScaler()\n",
        " X_train = sc.fit_transform(X_train)\n",
        " X_test = sc.transform(X_test)\n",
        " from sklearn.linear_model import LogisticRegression\n",
        " clf = LogisticRegression(random_state=0).fit(X_train, y_train)\n",
        " y_pred = clf.predict(X_test)\n",
        " print(confusion_matrix(y_test, y_pred))\n",
        " print(classification_report(y_test, y_pred))"
      ],
      "execution_count": 0,
      "outputs": []
    },
    {
      "cell_type": "code",
      "metadata": {
        "id": "2MW7FflDUQnU",
        "colab_type": "code",
        "colab": {}
      },
      "source": [
        "#calculation for Ridge Classifier\n",
        "def Ridge(X):\n",
        " X_train, X_test, y_train, y_test = train_test_split(X, label_y, test_size=0.20, random_state = 42)\n",
        " from sklearn.preprocessing import StandardScaler\n",
        " sc = StandardScaler()\n",
        " X_train = sc.fit_transform(X_train)\n",
        " X_test = sc.transform(X_test)\n",
        " from sklearn.linear_model import RidgeClassifier\n",
        " clf = RidgeClassifier().fit(X_train, y_train)\n",
        " y_pred = clf.predict(X_test)\n",
        " print(confusion_matrix(y_test, y_pred))\n",
        " print(classification_report(y_test, y_pred))"
      ],
      "execution_count": 0,
      "outputs": []
    },
    {
      "cell_type": "code",
      "metadata": {
        "id": "1VdJCaeBdwxV",
        "colab_type": "code",
        "outputId": "f546a62e-327f-44f6-b8d7-c04d8a02d0b2",
        "colab": {
          "base_uri": "https://localhost:8080/",
          "height": 258
        }
      },
      "source": [
        "KNN(MDS,5)"
      ],
      "execution_count": 0,
      "outputs": [
        {
          "output_type": "stream",
          "text": [
            "[[970  45]\n",
            " [ 48 937]]\n",
            "              precision    recall  f1-score   support\n",
            "\n",
            "           0       0.95      0.96      0.95      1015\n",
            "           1       0.95      0.95      0.95       985\n",
            "\n",
            "    accuracy                           0.95      2000\n",
            "   macro avg       0.95      0.95      0.95      2000\n",
            "weighted avg       0.95      0.95      0.95      2000\n",
            "\n"
          ],
          "name": "stdout"
        },
        {
          "output_type": "stream",
          "text": [
            "/usr/local/lib/python3.6/dist-packages/ipykernel_launcher.py:9: DataConversionWarning: A column-vector y was passed when a 1d array was expected. Please change the shape of y to (n_samples, ), for example using ravel().\n",
            "  if __name__ == '__main__':\n"
          ],
          "name": "stderr"
        }
      ]
    },
    {
      "cell_type": "code",
      "metadata": {
        "id": "RtGvvLRdIxJl",
        "colab_type": "code",
        "outputId": "aa943f3e-6137-449d-c2e8-d46a5bc611fe",
        "colab": {
          "base_uri": "https://localhost:8080/",
          "height": 258
        }
      },
      "source": [
        "KNN(PCA,5)"
      ],
      "execution_count": 0,
      "outputs": [
        {
          "output_type": "stream",
          "text": [
            "[[902 113]\n",
            " [181 804]]\n",
            "              precision    recall  f1-score   support\n",
            "\n",
            "           0       0.83      0.89      0.86      1015\n",
            "           1       0.88      0.82      0.85       985\n",
            "\n",
            "    accuracy                           0.85      2000\n",
            "   macro avg       0.85      0.85      0.85      2000\n",
            "weighted avg       0.85      0.85      0.85      2000\n",
            "\n"
          ],
          "name": "stdout"
        },
        {
          "output_type": "stream",
          "text": [
            "/usr/local/lib/python3.6/dist-packages/ipykernel_launcher.py:9: DataConversionWarning: A column-vector y was passed when a 1d array was expected. Please change the shape of y to (n_samples, ), for example using ravel().\n",
            "  if __name__ == '__main__':\n"
          ],
          "name": "stderr"
        }
      ]
    },
    {
      "cell_type": "code",
      "metadata": {
        "id": "3QiKSFixI9yA",
        "colab_type": "code",
        "outputId": "b1eefdf6-48d2-405f-bd24-12d7e7e7d1dd",
        "colab": {
          "base_uri": "https://localhost:8080/",
          "height": 258
        }
      },
      "source": [
        "KNN(PCA,10)"
      ],
      "execution_count": 0,
      "outputs": [
        {
          "output_type": "stream",
          "text": [
            "[[948  67]\n",
            " [205 780]]\n",
            "              precision    recall  f1-score   support\n",
            "\n",
            "           0       0.82      0.93      0.87      1015\n",
            "           1       0.92      0.79      0.85       985\n",
            "\n",
            "    accuracy                           0.86      2000\n",
            "   macro avg       0.87      0.86      0.86      2000\n",
            "weighted avg       0.87      0.86      0.86      2000\n",
            "\n"
          ],
          "name": "stdout"
        },
        {
          "output_type": "stream",
          "text": [
            "/usr/local/lib/python3.6/dist-packages/ipykernel_launcher.py:9: DataConversionWarning: A column-vector y was passed when a 1d array was expected. Please change the shape of y to (n_samples, ), for example using ravel().\n",
            "  if __name__ == '__main__':\n"
          ],
          "name": "stderr"
        }
      ]
    },
    {
      "cell_type": "code",
      "metadata": {
        "id": "Od_eJOwbi2nm",
        "colab_type": "code",
        "outputId": "a7742279-9d36-4559-b1ef-5890dbcd8a9c",
        "colab": {
          "base_uri": "https://localhost:8080/",
          "height": 258
        }
      },
      "source": [
        "KNN(ISOMAP,5)"
      ],
      "execution_count": 0,
      "outputs": [
        {
          "output_type": "stream",
          "text": [
            "[[953  62]\n",
            " [ 92 893]]\n",
            "              precision    recall  f1-score   support\n",
            "\n",
            "           0       0.91      0.94      0.93      1015\n",
            "           1       0.94      0.91      0.92       985\n",
            "\n",
            "    accuracy                           0.92      2000\n",
            "   macro avg       0.92      0.92      0.92      2000\n",
            "weighted avg       0.92      0.92      0.92      2000\n",
            "\n"
          ],
          "name": "stdout"
        },
        {
          "output_type": "stream",
          "text": [
            "/usr/local/lib/python3.6/dist-packages/ipykernel_launcher.py:9: DataConversionWarning: A column-vector y was passed when a 1d array was expected. Please change the shape of y to (n_samples, ), for example using ravel().\n",
            "  if __name__ == '__main__':\n"
          ],
          "name": "stderr"
        }
      ]
    },
    {
      "cell_type": "code",
      "metadata": {
        "id": "hB-k256KjEFU",
        "colab_type": "code",
        "outputId": "e998c510-f636-4e10-ebc7-46b0440be9a9",
        "colab": {
          "base_uri": "https://localhost:8080/",
          "height": 258
        }
      },
      "source": [
        "SVM(PCA)"
      ],
      "execution_count": 0,
      "outputs": [
        {
          "output_type": "stream",
          "text": [
            "/usr/local/lib/python3.6/dist-packages/sklearn/utils/validation.py:760: DataConversionWarning: A column-vector y was passed when a 1d array was expected. Please change the shape of y to (n_samples, ), for example using ravel().\n",
            "  y = column_or_1d(y, warn=True)\n"
          ],
          "name": "stderr"
        },
        {
          "output_type": "stream",
          "text": [
            "[[911 104]\n",
            " [275 710]]\n",
            "              precision    recall  f1-score   support\n",
            "\n",
            "           0       0.77      0.90      0.83      1015\n",
            "           1       0.87      0.72      0.79       985\n",
            "\n",
            "    accuracy                           0.81      2000\n",
            "   macro avg       0.82      0.81      0.81      2000\n",
            "weighted avg       0.82      0.81      0.81      2000\n",
            "\n"
          ],
          "name": "stdout"
        }
      ]
    },
    {
      "cell_type": "code",
      "metadata": {
        "id": "s0hmJedrJODW",
        "colab_type": "code",
        "outputId": "77234710-d76e-4267-83c3-fe0dc7e787e6",
        "colab": {
          "base_uri": "https://localhost:8080/",
          "height": 258
        }
      },
      "source": [
        "SVM(MDS)"
      ],
      "execution_count": 0,
      "outputs": [
        {
          "output_type": "stream",
          "text": [
            "/usr/local/lib/python3.6/dist-packages/sklearn/utils/validation.py:760: DataConversionWarning: A column-vector y was passed when a 1d array was expected. Please change the shape of y to (n_samples, ), for example using ravel().\n",
            "  y = column_or_1d(y, warn=True)\n"
          ],
          "name": "stderr"
        },
        {
          "output_type": "stream",
          "text": [
            "[[724 291]\n",
            " [319 666]]\n",
            "              precision    recall  f1-score   support\n",
            "\n",
            "           0       0.69      0.71      0.70      1015\n",
            "           1       0.70      0.68      0.69       985\n",
            "\n",
            "    accuracy                           0.69      2000\n",
            "   macro avg       0.70      0.69      0.69      2000\n",
            "weighted avg       0.70      0.69      0.69      2000\n",
            "\n"
          ],
          "name": "stdout"
        }
      ]
    },
    {
      "cell_type": "code",
      "metadata": {
        "id": "P21bMGauJW8n",
        "colab_type": "code",
        "outputId": "bbf0bf29-b7f0-4465-c230-ac69378905a6",
        "colab": {
          "base_uri": "https://localhost:8080/",
          "height": 258
        }
      },
      "source": [
        "SVM(ISOMAP)"
      ],
      "execution_count": 0,
      "outputs": [
        {
          "output_type": "stream",
          "text": [
            "/usr/local/lib/python3.6/dist-packages/sklearn/utils/validation.py:760: DataConversionWarning: A column-vector y was passed when a 1d array was expected. Please change the shape of y to (n_samples, ), for example using ravel().\n",
            "  y = column_or_1d(y, warn=True)\n"
          ],
          "name": "stderr"
        },
        {
          "output_type": "stream",
          "text": [
            "[[733 282]\n",
            " [230 755]]\n",
            "              precision    recall  f1-score   support\n",
            "\n",
            "           0       0.76      0.72      0.74      1015\n",
            "           1       0.73      0.77      0.75       985\n",
            "\n",
            "    accuracy                           0.74      2000\n",
            "   macro avg       0.74      0.74      0.74      2000\n",
            "weighted avg       0.74      0.74      0.74      2000\n",
            "\n"
          ],
          "name": "stdout"
        }
      ]
    },
    {
      "cell_type": "code",
      "metadata": {
        "id": "4bMqpC2QJseD",
        "colab_type": "code",
        "outputId": "ade85a73-dc8e-4bb9-91c2-f0d575a3c4ad",
        "colab": {
          "base_uri": "https://localhost:8080/",
          "height": 258
        }
      },
      "source": [
        "SVM(PCA) #rbf kernel"
      ],
      "execution_count": 0,
      "outputs": [
        {
          "output_type": "stream",
          "text": [
            "/usr/local/lib/python3.6/dist-packages/sklearn/utils/validation.py:760: DataConversionWarning: A column-vector y was passed when a 1d array was expected. Please change the shape of y to (n_samples, ), for example using ravel().\n",
            "  y = column_or_1d(y, warn=True)\n"
          ],
          "name": "stderr"
        },
        {
          "output_type": "stream",
          "text": [
            "[[973  42]\n",
            " [241 744]]\n",
            "              precision    recall  f1-score   support\n",
            "\n",
            "           0       0.80      0.96      0.87      1015\n",
            "           1       0.95      0.76      0.84       985\n",
            "\n",
            "    accuracy                           0.86      2000\n",
            "   macro avg       0.87      0.86      0.86      2000\n",
            "weighted avg       0.87      0.86      0.86      2000\n",
            "\n"
          ],
          "name": "stdout"
        }
      ]
    },
    {
      "cell_type": "code",
      "metadata": {
        "id": "iFLQCDHQJ0KN",
        "colab_type": "code",
        "outputId": "0d9796a2-af8e-4426-8514-f2f9c20ba23d",
        "colab": {
          "base_uri": "https://localhost:8080/",
          "height": 258
        }
      },
      "source": [
        "SVM(MDS) #rbf kernel"
      ],
      "execution_count": 0,
      "outputs": [
        {
          "output_type": "stream",
          "text": [
            "/usr/local/lib/python3.6/dist-packages/sklearn/utils/validation.py:760: DataConversionWarning: A column-vector y was passed when a 1d array was expected. Please change the shape of y to (n_samples, ), for example using ravel().\n",
            "  y = column_or_1d(y, warn=True)\n"
          ],
          "name": "stderr"
        },
        {
          "output_type": "stream",
          "text": [
            "[[983  32]\n",
            " [ 85 900]]\n",
            "              precision    recall  f1-score   support\n",
            "\n",
            "           0       0.92      0.97      0.94      1015\n",
            "           1       0.97      0.91      0.94       985\n",
            "\n",
            "    accuracy                           0.94      2000\n",
            "   macro avg       0.94      0.94      0.94      2000\n",
            "weighted avg       0.94      0.94      0.94      2000\n",
            "\n"
          ],
          "name": "stdout"
        }
      ]
    },
    {
      "cell_type": "code",
      "metadata": {
        "id": "wZkB-74ZLFqo",
        "colab_type": "code",
        "outputId": "f6dc128d-31aa-4a3b-ac93-7557a86e29a6",
        "colab": {
          "base_uri": "https://localhost:8080/",
          "height": 258
        }
      },
      "source": [
        "SVM(ISOMAP) #rbf kernel"
      ],
      "execution_count": 0,
      "outputs": [
        {
          "output_type": "stream",
          "text": [
            "/usr/local/lib/python3.6/dist-packages/sklearn/utils/validation.py:760: DataConversionWarning: A column-vector y was passed when a 1d array was expected. Please change the shape of y to (n_samples, ), for example using ravel().\n",
            "  y = column_or_1d(y, warn=True)\n"
          ],
          "name": "stderr"
        },
        {
          "output_type": "stream",
          "text": [
            "[[967  48]\n",
            " [120 865]]\n",
            "              precision    recall  f1-score   support\n",
            "\n",
            "           0       0.89      0.95      0.92      1015\n",
            "           1       0.95      0.88      0.91       985\n",
            "\n",
            "    accuracy                           0.92      2000\n",
            "   macro avg       0.92      0.92      0.92      2000\n",
            "weighted avg       0.92      0.92      0.92      2000\n",
            "\n"
          ],
          "name": "stdout"
        }
      ]
    },
    {
      "cell_type": "code",
      "metadata": {
        "id": "Tia_Dy0OLQ0C",
        "colab_type": "code",
        "outputId": "039ce4ee-7892-4b98-c3fb-8ccab3e7d756",
        "colab": {
          "base_uri": "https://localhost:8080/",
          "height": 258
        }
      },
      "source": [
        "SVM(PCA) #poly kernel"
      ],
      "execution_count": 0,
      "outputs": [
        {
          "output_type": "stream",
          "text": [
            "/usr/local/lib/python3.6/dist-packages/sklearn/utils/validation.py:760: DataConversionWarning: A column-vector y was passed when a 1d array was expected. Please change the shape of y to (n_samples, ), for example using ravel().\n",
            "  y = column_or_1d(y, warn=True)\n"
          ],
          "name": "stderr"
        },
        {
          "output_type": "stream",
          "text": [
            "[[671 344]\n",
            " [121 864]]\n",
            "              precision    recall  f1-score   support\n",
            "\n",
            "           0       0.85      0.66      0.74      1015\n",
            "           1       0.72      0.88      0.79       985\n",
            "\n",
            "    accuracy                           0.77      2000\n",
            "   macro avg       0.78      0.77      0.77      2000\n",
            "weighted avg       0.78      0.77      0.76      2000\n",
            "\n"
          ],
          "name": "stdout"
        }
      ]
    },
    {
      "cell_type": "code",
      "metadata": {
        "id": "xz5rmvepLosm",
        "colab_type": "code",
        "outputId": "5c50c01c-7731-46c3-feb2-5a5b39ac7789",
        "colab": {
          "base_uri": "https://localhost:8080/",
          "height": 258
        }
      },
      "source": [
        "SVM(MDS) #poly kernel"
      ],
      "execution_count": 0,
      "outputs": [
        {
          "output_type": "stream",
          "text": [
            "/usr/local/lib/python3.6/dist-packages/sklearn/utils/validation.py:760: DataConversionWarning: A column-vector y was passed when a 1d array was expected. Please change the shape of y to (n_samples, ), for example using ravel().\n",
            "  y = column_or_1d(y, warn=True)\n"
          ],
          "name": "stderr"
        },
        {
          "output_type": "stream",
          "text": [
            "[[951  64]\n",
            " [595 390]]\n",
            "              precision    recall  f1-score   support\n",
            "\n",
            "           0       0.62      0.94      0.74      1015\n",
            "           1       0.86      0.40      0.54       985\n",
            "\n",
            "    accuracy                           0.67      2000\n",
            "   macro avg       0.74      0.67      0.64      2000\n",
            "weighted avg       0.74      0.67      0.64      2000\n",
            "\n"
          ],
          "name": "stdout"
        }
      ]
    },
    {
      "cell_type": "code",
      "metadata": {
        "id": "esp58v18Lwm6",
        "colab_type": "code",
        "outputId": "1ed9fc4d-2bc0-4a65-ee85-b9a679b5b609",
        "colab": {
          "base_uri": "https://localhost:8080/",
          "height": 258
        }
      },
      "source": [
        "SVM(ISOMAP) #poly kernel"
      ],
      "execution_count": 0,
      "outputs": [
        {
          "output_type": "stream",
          "text": [
            "/usr/local/lib/python3.6/dist-packages/sklearn/utils/validation.py:760: DataConversionWarning: A column-vector y was passed when a 1d array was expected. Please change the shape of y to (n_samples, ), for example using ravel().\n",
            "  y = column_or_1d(y, warn=True)\n"
          ],
          "name": "stderr"
        },
        {
          "output_type": "stream",
          "text": [
            "[[937  78]\n",
            " [402 583]]\n",
            "              precision    recall  f1-score   support\n",
            "\n",
            "           0       0.70      0.92      0.80      1015\n",
            "           1       0.88      0.59      0.71       985\n",
            "\n",
            "    accuracy                           0.76      2000\n",
            "   macro avg       0.79      0.76      0.75      2000\n",
            "weighted avg       0.79      0.76      0.75      2000\n",
            "\n"
          ],
          "name": "stdout"
        }
      ]
    },
    {
      "cell_type": "code",
      "metadata": {
        "id": "-ngC6ZbKL7gX",
        "colab_type": "code",
        "colab": {}
      },
      "source": [
        "with open('tSNE_sklearn', 'rb') as f:\n",
        "     TSNE=pickle.load(f) \n",
        "\n"
      ],
      "execution_count": 0,
      "outputs": []
    },
    {
      "cell_type": "code",
      "metadata": {
        "id": "9pvxaMoCMoN_",
        "colab_type": "code",
        "outputId": "1594d269-09a2-4960-811b-41c0652556b3",
        "colab": {
          "base_uri": "https://localhost:8080/",
          "height": 34
        }
      },
      "source": [
        "TSNE=np.array(TSNE)\n",
        "TSNE.shape"
      ],
      "execution_count": 0,
      "outputs": [
        {
          "output_type": "execute_result",
          "data": {
            "text/plain": [
              "(1, 10000, 2)"
            ]
          },
          "metadata": {
            "tags": []
          },
          "execution_count": 7
        }
      ]
    },
    {
      "cell_type": "code",
      "metadata": {
        "id": "ZKHQnkxFMpgC",
        "colab_type": "code",
        "outputId": "dad9ff93-6a88-4e48-a84c-cd50d159c965",
        "colab": {
          "base_uri": "https://localhost:8080/",
          "height": 34
        }
      },
      "source": [
        "TSNE=np.reshape(TSNE,(TSNE.shape[1],TSNE.shape[2]))\n",
        "TSNE.shape"
      ],
      "execution_count": 0,
      "outputs": [
        {
          "output_type": "execute_result",
          "data": {
            "text/plain": [
              "(10000, 2)"
            ]
          },
          "metadata": {
            "tags": []
          },
          "execution_count": 8
        }
      ]
    },
    {
      "cell_type": "code",
      "metadata": {
        "id": "9GmwWV43bWDV",
        "colab_type": "code",
        "outputId": "e7de2072-4301-4e00-9ea6-5d71399df90d",
        "colab": {
          "base_uri": "https://localhost:8080/",
          "height": 34
        }
      },
      "source": [
        "with open('X_tsne_p30', 'rb') as f:\n",
        "     TSNE1=pickle.load(f) \n",
        "TSNE1=np.array(TSNE1)\n",
        "TSNE1=np.reshape(TSNE1,(TSNE1.shape[1],TSNE1.shape[2]))\n",
        "TSNE1.shape"
      ],
      "execution_count": 0,
      "outputs": [
        {
          "output_type": "execute_result",
          "data": {
            "text/plain": [
              "(10000, 2)"
            ]
          },
          "metadata": {
            "tags": []
          },
          "execution_count": 9
        }
      ]
    },
    {
      "cell_type": "code",
      "metadata": {
        "id": "vuUfbDOlM5Y5",
        "colab_type": "code",
        "outputId": "5e5bf42c-2781-4036-9d17-e9000166339a",
        "colab": {
          "base_uri": "https://localhost:8080/",
          "height": 258
        }
      },
      "source": [
        "KNN(TSNE,5)"
      ],
      "execution_count": 0,
      "outputs": [
        {
          "output_type": "stream",
          "text": [
            "[[881 134]\n",
            " [191 794]]\n",
            "              precision    recall  f1-score   support\n",
            "\n",
            "           0       0.82      0.87      0.84      1015\n",
            "           1       0.86      0.81      0.83       985\n",
            "\n",
            "    accuracy                           0.84      2000\n",
            "   macro avg       0.84      0.84      0.84      2000\n",
            "weighted avg       0.84      0.84      0.84      2000\n",
            "\n"
          ],
          "name": "stdout"
        },
        {
          "output_type": "stream",
          "text": [
            "/usr/local/lib/python3.6/dist-packages/ipykernel_launcher.py:9: DataConversionWarning: A column-vector y was passed when a 1d array was expected. Please change the shape of y to (n_samples, ), for example using ravel().\n",
            "  if __name__ == '__main__':\n"
          ],
          "name": "stderr"
        }
      ]
    },
    {
      "cell_type": "code",
      "metadata": {
        "id": "je4QfoOlNRBK",
        "colab_type": "code",
        "outputId": "59f57b17-081d-4768-e13e-20481880efe2",
        "colab": {
          "base_uri": "https://localhost:8080/",
          "height": 258
        }
      },
      "source": [
        "SVM(TSNE,'linear')"
      ],
      "execution_count": 0,
      "outputs": [
        {
          "output_type": "stream",
          "text": [
            "/usr/local/lib/python3.6/dist-packages/sklearn/utils/validation.py:760: DataConversionWarning: A column-vector y was passed when a 1d array was expected. Please change the shape of y to (n_samples, ), for example using ravel().\n",
            "  y = column_or_1d(y, warn=True)\n"
          ],
          "name": "stderr"
        },
        {
          "output_type": "stream",
          "text": [
            "[[901 114]\n",
            " [280 705]]\n",
            "              precision    recall  f1-score   support\n",
            "\n",
            "           0       0.76      0.89      0.82      1015\n",
            "           1       0.86      0.72      0.78       985\n",
            "\n",
            "    accuracy                           0.80      2000\n",
            "   macro avg       0.81      0.80      0.80      2000\n",
            "weighted avg       0.81      0.80      0.80      2000\n",
            "\n"
          ],
          "name": "stdout"
        }
      ]
    },
    {
      "cell_type": "code",
      "metadata": {
        "id": "4wLQOVuZNn0F",
        "colab_type": "code",
        "outputId": "4b7e1a8c-065a-4e02-8b80-118fe1de2a91",
        "colab": {
          "base_uri": "https://localhost:8080/",
          "height": 258
        }
      },
      "source": [
        "SVM(TSNE,'rbf')"
      ],
      "execution_count": 0,
      "outputs": [
        {
          "output_type": "stream",
          "text": [
            "/usr/local/lib/python3.6/dist-packages/sklearn/utils/validation.py:760: DataConversionWarning: A column-vector y was passed when a 1d array was expected. Please change the shape of y to (n_samples, ), for example using ravel().\n",
            "  y = column_or_1d(y, warn=True)\n"
          ],
          "name": "stderr"
        },
        {
          "output_type": "stream",
          "text": [
            "[[974  41]\n",
            " [250 735]]\n",
            "              precision    recall  f1-score   support\n",
            "\n",
            "           0       0.80      0.96      0.87      1015\n",
            "           1       0.95      0.75      0.83       985\n",
            "\n",
            "    accuracy                           0.85      2000\n",
            "   macro avg       0.87      0.85      0.85      2000\n",
            "weighted avg       0.87      0.85      0.85      2000\n",
            "\n"
          ],
          "name": "stdout"
        }
      ]
    },
    {
      "cell_type": "code",
      "metadata": {
        "id": "RExZkvMRNt0e",
        "colab_type": "code",
        "outputId": "5d46443e-c684-4024-bb39-c23dfe024534",
        "colab": {
          "base_uri": "https://localhost:8080/",
          "height": 258
        }
      },
      "source": [
        "SVM(TSNE,'poly')"
      ],
      "execution_count": 0,
      "outputs": [
        {
          "output_type": "stream",
          "text": [
            "/usr/local/lib/python3.6/dist-packages/sklearn/utils/validation.py:760: DataConversionWarning: A column-vector y was passed when a 1d array was expected. Please change the shape of y to (n_samples, ), for example using ravel().\n",
            "  y = column_or_1d(y, warn=True)\n"
          ],
          "name": "stderr"
        },
        {
          "output_type": "stream",
          "text": [
            "[[678 337]\n",
            " [129 856]]\n",
            "              precision    recall  f1-score   support\n",
            "\n",
            "           0       0.84      0.67      0.74      1015\n",
            "           1       0.72      0.87      0.79       985\n",
            "\n",
            "    accuracy                           0.77      2000\n",
            "   macro avg       0.78      0.77      0.77      2000\n",
            "weighted avg       0.78      0.77      0.76      2000\n",
            "\n"
          ],
          "name": "stdout"
        }
      ]
    },
    {
      "cell_type": "code",
      "metadata": {
        "id": "NyP1lQc_NyLf",
        "colab_type": "code",
        "outputId": "e8efd41b-af82-42ed-9347-b98584847ef0",
        "colab": {
          "base_uri": "https://localhost:8080/",
          "height": 34
        }
      },
      "source": [
        "with open('X_tsne_p30', 'rb') as f:\n",
        "     TSNE1=pickle.load(f) \n",
        "TSNE1=np.array(TSNE1)\n",
        "TSNE1=np.reshape(TSNE1,(TSNE1.shape[1],TSNE1.shape[2]))\n",
        "TSNE1.shape"
      ],
      "execution_count": 0,
      "outputs": [
        {
          "output_type": "execute_result",
          "data": {
            "text/plain": [
              "(10000, 2)"
            ]
          },
          "metadata": {
            "tags": []
          },
          "execution_count": 44
        }
      ]
    },
    {
      "cell_type": "code",
      "metadata": {
        "id": "WdKSWo8AOVUN",
        "colab_type": "code",
        "outputId": "949feed5-8d04-4c09-98de-5ea955ff3179",
        "colab": {
          "base_uri": "https://localhost:8080/",
          "height": 258
        }
      },
      "source": [
        "KNN(TSNE1,5)"
      ],
      "execution_count": 0,
      "outputs": [
        {
          "output_type": "stream",
          "text": [
            "[[859 156]\n",
            " [211 774]]\n",
            "              precision    recall  f1-score   support\n",
            "\n",
            "           0       0.80      0.85      0.82      1015\n",
            "           1       0.83      0.79      0.81       985\n",
            "\n",
            "    accuracy                           0.82      2000\n",
            "   macro avg       0.82      0.82      0.82      2000\n",
            "weighted avg       0.82      0.82      0.82      2000\n",
            "\n"
          ],
          "name": "stdout"
        },
        {
          "output_type": "stream",
          "text": [
            "/usr/local/lib/python3.6/dist-packages/ipykernel_launcher.py:9: DataConversionWarning: A column-vector y was passed when a 1d array was expected. Please change the shape of y to (n_samples, ), for example using ravel().\n",
            "  if __name__ == '__main__':\n"
          ],
          "name": "stderr"
        }
      ]
    },
    {
      "cell_type": "code",
      "metadata": {
        "id": "4OeBiK3yOdDZ",
        "colab_type": "code",
        "outputId": "f64e3a2a-ea3c-4c46-96ca-9b93d77cba75",
        "colab": {
          "base_uri": "https://localhost:8080/",
          "height": 258
        }
      },
      "source": [
        "SVM(TSNE1,'linear')"
      ],
      "execution_count": 0,
      "outputs": [
        {
          "output_type": "stream",
          "text": [
            "/usr/local/lib/python3.6/dist-packages/sklearn/utils/validation.py:760: DataConversionWarning: A column-vector y was passed when a 1d array was expected. Please change the shape of y to (n_samples, ), for example using ravel().\n",
            "  y = column_or_1d(y, warn=True)\n"
          ],
          "name": "stderr"
        },
        {
          "output_type": "stream",
          "text": [
            "[[653 362]\n",
            " [225 760]]\n",
            "              precision    recall  f1-score   support\n",
            "\n",
            "           0       0.74      0.64      0.69      1015\n",
            "           1       0.68      0.77      0.72       985\n",
            "\n",
            "    accuracy                           0.71      2000\n",
            "   macro avg       0.71      0.71      0.71      2000\n",
            "weighted avg       0.71      0.71      0.71      2000\n",
            "\n"
          ],
          "name": "stdout"
        }
      ]
    },
    {
      "cell_type": "code",
      "metadata": {
        "id": "SBPcvrxYOkLe",
        "colab_type": "code",
        "outputId": "2ff3a368-e2c0-4214-d1e9-aff67635b24d",
        "colab": {
          "base_uri": "https://localhost:8080/",
          "height": 258
        }
      },
      "source": [
        "SVM(TSNE1,'rbf')"
      ],
      "execution_count": 0,
      "outputs": [
        {
          "output_type": "stream",
          "text": [
            "/usr/local/lib/python3.6/dist-packages/sklearn/utils/validation.py:760: DataConversionWarning: A column-vector y was passed when a 1d array was expected. Please change the shape of y to (n_samples, ), for example using ravel().\n",
            "  y = column_or_1d(y, warn=True)\n"
          ],
          "name": "stderr"
        },
        {
          "output_type": "stream",
          "text": [
            "[[836 179]\n",
            " [200 785]]\n",
            "              precision    recall  f1-score   support\n",
            "\n",
            "           0       0.81      0.82      0.82      1015\n",
            "           1       0.81      0.80      0.81       985\n",
            "\n",
            "    accuracy                           0.81      2000\n",
            "   macro avg       0.81      0.81      0.81      2000\n",
            "weighted avg       0.81      0.81      0.81      2000\n",
            "\n"
          ],
          "name": "stdout"
        }
      ]
    },
    {
      "cell_type": "code",
      "metadata": {
        "id": "mUm9nUvWOqzj",
        "colab_type": "code",
        "outputId": "e69e47fd-ff44-473c-c652-eb2329a1c081",
        "colab": {
          "base_uri": "https://localhost:8080/",
          "height": 258
        }
      },
      "source": [
        "SVM(TSNE1,'poly')"
      ],
      "execution_count": 0,
      "outputs": [
        {
          "output_type": "stream",
          "text": [
            "/usr/local/lib/python3.6/dist-packages/sklearn/utils/validation.py:760: DataConversionWarning: A column-vector y was passed when a 1d array was expected. Please change the shape of y to (n_samples, ), for example using ravel().\n",
            "  y = column_or_1d(y, warn=True)\n"
          ],
          "name": "stderr"
        },
        {
          "output_type": "stream",
          "text": [
            "[[503 512]\n",
            " [ 87 898]]\n",
            "              precision    recall  f1-score   support\n",
            "\n",
            "           0       0.85      0.50      0.63      1015\n",
            "           1       0.64      0.91      0.75       985\n",
            "\n",
            "    accuracy                           0.70      2000\n",
            "   macro avg       0.74      0.70      0.69      2000\n",
            "weighted avg       0.75      0.70      0.69      2000\n",
            "\n"
          ],
          "name": "stdout"
        }
      ]
    },
    {
      "cell_type": "code",
      "metadata": {
        "id": "wcIta-qJOzqp",
        "colab_type": "code",
        "outputId": "299ce992-8b2a-4f64-b13d-58511e164e3a",
        "colab": {
          "base_uri": "https://localhost:8080/",
          "height": 204
        }
      },
      "source": [
        "DT(PCA)"
      ],
      "execution_count": 0,
      "outputs": [
        {
          "output_type": "stream",
          "text": [
            "[[831 184]\n",
            " [194 791]]\n",
            "              precision    recall  f1-score   support\n",
            "\n",
            "           0       0.81      0.82      0.81      1015\n",
            "           1       0.81      0.80      0.81       985\n",
            "\n",
            "    accuracy                           0.81      2000\n",
            "   macro avg       0.81      0.81      0.81      2000\n",
            "weighted avg       0.81      0.81      0.81      2000\n",
            "\n"
          ],
          "name": "stdout"
        }
      ]
    },
    {
      "cell_type": "code",
      "metadata": {
        "id": "FYuzgxcyQMhd",
        "colab_type": "code",
        "outputId": "3dd80284-55b1-4060-dd13-3d0b72a25691",
        "colab": {
          "base_uri": "https://localhost:8080/",
          "height": 204
        }
      },
      "source": [
        "DT(MDS)"
      ],
      "execution_count": 0,
      "outputs": [
        {
          "output_type": "stream",
          "text": [
            "[[945  70]\n",
            " [ 66 919]]\n",
            "              precision    recall  f1-score   support\n",
            "\n",
            "           0       0.93      0.93      0.93      1015\n",
            "           1       0.93      0.93      0.93       985\n",
            "\n",
            "    accuracy                           0.93      2000\n",
            "   macro avg       0.93      0.93      0.93      2000\n",
            "weighted avg       0.93      0.93      0.93      2000\n",
            "\n"
          ],
          "name": "stdout"
        }
      ]
    },
    {
      "cell_type": "code",
      "metadata": {
        "id": "JNMadww5QWtJ",
        "colab_type": "code",
        "outputId": "d4dbfbe7-1b02-4ece-bbcf-c60c9442fc81",
        "colab": {
          "base_uri": "https://localhost:8080/",
          "height": 204
        }
      },
      "source": [
        "DT(ISOMAP)"
      ],
      "execution_count": 0,
      "outputs": [
        {
          "output_type": "stream",
          "text": [
            "[[921  94]\n",
            " [ 93 892]]\n",
            "              precision    recall  f1-score   support\n",
            "\n",
            "           0       0.91      0.91      0.91      1015\n",
            "           1       0.90      0.91      0.91       985\n",
            "\n",
            "    accuracy                           0.91      2000\n",
            "   macro avg       0.91      0.91      0.91      2000\n",
            "weighted avg       0.91      0.91      0.91      2000\n",
            "\n"
          ],
          "name": "stdout"
        }
      ]
    },
    {
      "cell_type": "code",
      "metadata": {
        "id": "QqY30wwXQdZh",
        "colab_type": "code",
        "outputId": "c4891849-bcbd-42ab-c853-3481f081d9d5",
        "colab": {
          "base_uri": "https://localhost:8080/",
          "height": 204
        }
      },
      "source": [
        "DT(TSNE)"
      ],
      "execution_count": 0,
      "outputs": [
        {
          "output_type": "stream",
          "text": [
            "[[800 215]\n",
            " [184 801]]\n",
            "              precision    recall  f1-score   support\n",
            "\n",
            "           0       0.81      0.79      0.80      1015\n",
            "           1       0.79      0.81      0.80       985\n",
            "\n",
            "    accuracy                           0.80      2000\n",
            "   macro avg       0.80      0.80      0.80      2000\n",
            "weighted avg       0.80      0.80      0.80      2000\n",
            "\n"
          ],
          "name": "stdout"
        }
      ]
    },
    {
      "cell_type": "code",
      "metadata": {
        "id": "eImUJtXQQioa",
        "colab_type": "code",
        "outputId": "897b1161-3aff-45de-ad79-2d22446c794d",
        "colab": {
          "base_uri": "https://localhost:8080/",
          "height": 204
        }
      },
      "source": [
        "DT(TSNE1)"
      ],
      "execution_count": 0,
      "outputs": [
        {
          "output_type": "stream",
          "text": [
            "[[813 202]\n",
            " [205 780]]\n",
            "              precision    recall  f1-score   support\n",
            "\n",
            "           0       0.80      0.80      0.80      1015\n",
            "           1       0.79      0.79      0.79       985\n",
            "\n",
            "    accuracy                           0.80      2000\n",
            "   macro avg       0.80      0.80      0.80      2000\n",
            "weighted avg       0.80      0.80      0.80      2000\n",
            "\n"
          ],
          "name": "stdout"
        }
      ]
    },
    {
      "cell_type": "code",
      "metadata": {
        "id": "wfjtyRv8Qmah",
        "colab_type": "code",
        "outputId": "e6a2ab68-594d-44f2-fe65-11cd4e073712",
        "colab": {
          "base_uri": "https://localhost:8080/",
          "height": 258
        }
      },
      "source": [
        "LR(PCA)"
      ],
      "execution_count": 0,
      "outputs": [
        {
          "output_type": "stream",
          "text": [
            "[[857 158]\n",
            " [242 743]]\n",
            "              precision    recall  f1-score   support\n",
            "\n",
            "           0       0.78      0.84      0.81      1015\n",
            "           1       0.82      0.75      0.79       985\n",
            "\n",
            "    accuracy                           0.80      2000\n",
            "   macro avg       0.80      0.80      0.80      2000\n",
            "weighted avg       0.80      0.80      0.80      2000\n",
            "\n"
          ],
          "name": "stdout"
        },
        {
          "output_type": "stream",
          "text": [
            "/usr/local/lib/python3.6/dist-packages/sklearn/utils/validation.py:760: DataConversionWarning: A column-vector y was passed when a 1d array was expected. Please change the shape of y to (n_samples, ), for example using ravel().\n",
            "  y = column_or_1d(y, warn=True)\n"
          ],
          "name": "stderr"
        }
      ]
    },
    {
      "cell_type": "code",
      "metadata": {
        "id": "AuWqyEVpUd8_",
        "colab_type": "code",
        "outputId": "65d13a6a-535f-47cd-8cbc-2be5d87f1fca",
        "colab": {
          "base_uri": "https://localhost:8080/",
          "height": 258
        }
      },
      "source": [
        "LR_robust(TSNE)"
      ],
      "execution_count": 0,
      "outputs": [
        {
          "output_type": "stream",
          "text": [
            "[[853 162]\n",
            " [242 743]]\n",
            "              precision    recall  f1-score   support\n",
            "\n",
            "           0       0.78      0.84      0.81      1015\n",
            "           1       0.82      0.75      0.79       985\n",
            "\n",
            "    accuracy                           0.80      2000\n",
            "   macro avg       0.80      0.80      0.80      2000\n",
            "weighted avg       0.80      0.80      0.80      2000\n",
            "\n"
          ],
          "name": "stdout"
        },
        {
          "output_type": "stream",
          "text": [
            "/usr/local/lib/python3.6/dist-packages/sklearn/utils/validation.py:760: DataConversionWarning: A column-vector y was passed when a 1d array was expected. Please change the shape of y to (n_samples, ), for example using ravel().\n",
            "  y = column_or_1d(y, warn=True)\n"
          ],
          "name": "stderr"
        }
      ]
    },
    {
      "cell_type": "code",
      "metadata": {
        "id": "66x_sKI7TG0t",
        "colab_type": "code",
        "outputId": "e9807d18-d2d3-42b4-faaa-763390a0f96d",
        "colab": {
          "base_uri": "https://localhost:8080/",
          "height": 258
        }
      },
      "source": [
        "LR(ISOMAP)"
      ],
      "execution_count": 0,
      "outputs": [
        {
          "output_type": "stream",
          "text": [
            "[[692 323]\n",
            " [209 776]]\n",
            "              precision    recall  f1-score   support\n",
            "\n",
            "           0       0.77      0.68      0.72      1015\n",
            "           1       0.71      0.79      0.74       985\n",
            "\n",
            "    accuracy                           0.73      2000\n",
            "   macro avg       0.74      0.73      0.73      2000\n",
            "weighted avg       0.74      0.73      0.73      2000\n",
            "\n"
          ],
          "name": "stdout"
        },
        {
          "output_type": "stream",
          "text": [
            "/usr/local/lib/python3.6/dist-packages/sklearn/utils/validation.py:760: DataConversionWarning: A column-vector y was passed when a 1d array was expected. Please change the shape of y to (n_samples, ), for example using ravel().\n",
            "  y = column_or_1d(y, warn=True)\n"
          ],
          "name": "stderr"
        }
      ]
    },
    {
      "cell_type": "code",
      "metadata": {
        "id": "XPpnNQZiTOFC",
        "colab_type": "code",
        "outputId": "a74ba6ac-0080-41e2-a603-cc2a3f0ec234",
        "colab": {
          "base_uri": "https://localhost:8080/",
          "height": 258
        }
      },
      "source": [
        "LR(TSNE)"
      ],
      "execution_count": 0,
      "outputs": [
        {
          "output_type": "stream",
          "text": [
            "[[853 162]\n",
            " [242 743]]\n",
            "              precision    recall  f1-score   support\n",
            "\n",
            "           0       0.78      0.84      0.81      1015\n",
            "           1       0.82      0.75      0.79       985\n",
            "\n",
            "    accuracy                           0.80      2000\n",
            "   macro avg       0.80      0.80      0.80      2000\n",
            "weighted avg       0.80      0.80      0.80      2000\n",
            "\n"
          ],
          "name": "stdout"
        },
        {
          "output_type": "stream",
          "text": [
            "/usr/local/lib/python3.6/dist-packages/sklearn/utils/validation.py:760: DataConversionWarning: A column-vector y was passed when a 1d array was expected. Please change the shape of y to (n_samples, ), for example using ravel().\n",
            "  y = column_or_1d(y, warn=True)\n"
          ],
          "name": "stderr"
        }
      ]
    },
    {
      "cell_type": "code",
      "metadata": {
        "id": "xLzL6yW0TTHu",
        "colab_type": "code",
        "outputId": "1434006f-709e-4f7f-b8f9-262cb28470f1",
        "colab": {
          "base_uri": "https://localhost:8080/",
          "height": 258
        }
      },
      "source": [
        "LR(TSNE1)"
      ],
      "execution_count": 0,
      "outputs": [
        {
          "output_type": "stream",
          "text": [
            "[[695 320]\n",
            " [264 721]]\n",
            "              precision    recall  f1-score   support\n",
            "\n",
            "           0       0.72      0.68      0.70      1015\n",
            "           1       0.69      0.73      0.71       985\n",
            "\n",
            "    accuracy                           0.71      2000\n",
            "   macro avg       0.71      0.71      0.71      2000\n",
            "weighted avg       0.71      0.71      0.71      2000\n",
            "\n"
          ],
          "name": "stdout"
        },
        {
          "output_type": "stream",
          "text": [
            "/usr/local/lib/python3.6/dist-packages/sklearn/utils/validation.py:760: DataConversionWarning: A column-vector y was passed when a 1d array was expected. Please change the shape of y to (n_samples, ), for example using ravel().\n",
            "  y = column_or_1d(y, warn=True)\n"
          ],
          "name": "stderr"
        }
      ]
    },
    {
      "cell_type": "code",
      "metadata": {
        "id": "Ai7bhQQrTW_G",
        "colab_type": "code",
        "outputId": "74fde108-0a35-45c0-9965-963f0ac21af0",
        "colab": {
          "base_uri": "https://localhost:8080/",
          "height": 258
        }
      },
      "source": [
        "Ridge(PCA)"
      ],
      "execution_count": 0,
      "outputs": [
        {
          "output_type": "stream",
          "text": [
            "[[877 138]\n",
            " [280 705]]\n",
            "              precision    recall  f1-score   support\n",
            "\n",
            "           0       0.76      0.86      0.81      1015\n",
            "           1       0.84      0.72      0.77       985\n",
            "\n",
            "    accuracy                           0.79      2000\n",
            "   macro avg       0.80      0.79      0.79      2000\n",
            "weighted avg       0.80      0.79      0.79      2000\n",
            "\n"
          ],
          "name": "stdout"
        },
        {
          "output_type": "stream",
          "text": [
            "/usr/local/lib/python3.6/dist-packages/sklearn/linear_model/_ridge.py:940: DataConversionWarning: A column-vector y was passed when a 1d array was expected. Please change the shape of y to (n_samples, ), for example using ravel().\n",
            "  y = column_or_1d(y, warn=True)\n"
          ],
          "name": "stderr"
        }
      ]
    },
    {
      "cell_type": "code",
      "metadata": {
        "id": "cV6Mp-cIVAgW",
        "colab_type": "code",
        "outputId": "40f2efac-e89e-4caa-8458-0bd2538dfb9f",
        "colab": {
          "base_uri": "https://localhost:8080/",
          "height": 258
        }
      },
      "source": [
        "Ridge(MDS)"
      ],
      "execution_count": 0,
      "outputs": [
        {
          "output_type": "stream",
          "text": [
            "[[725 290]\n",
            " [320 665]]\n",
            "              precision    recall  f1-score   support\n",
            "\n",
            "           0       0.69      0.71      0.70      1015\n",
            "           1       0.70      0.68      0.69       985\n",
            "\n",
            "    accuracy                           0.69      2000\n",
            "   macro avg       0.70      0.69      0.69      2000\n",
            "weighted avg       0.70      0.69      0.69      2000\n",
            "\n"
          ],
          "name": "stdout"
        },
        {
          "output_type": "stream",
          "text": [
            "/usr/local/lib/python3.6/dist-packages/sklearn/linear_model/_ridge.py:940: DataConversionWarning: A column-vector y was passed when a 1d array was expected. Please change the shape of y to (n_samples, ), for example using ravel().\n",
            "  y = column_or_1d(y, warn=True)\n"
          ],
          "name": "stderr"
        }
      ]
    },
    {
      "cell_type": "code",
      "metadata": {
        "id": "O7qAI8GsVPTc",
        "colab_type": "code",
        "outputId": "31fd3951-f0e3-4bfe-8a46-dce953af0af5",
        "colab": {
          "base_uri": "https://localhost:8080/",
          "height": 258
        }
      },
      "source": [
        "Ridge(ISOMAP)"
      ],
      "execution_count": 0,
      "outputs": [
        {
          "output_type": "stream",
          "text": [
            "[[663 352]\n",
            " [194 791]]\n",
            "              precision    recall  f1-score   support\n",
            "\n",
            "           0       0.77      0.65      0.71      1015\n",
            "           1       0.69      0.80      0.74       985\n",
            "\n",
            "    accuracy                           0.73      2000\n",
            "   macro avg       0.73      0.73      0.73      2000\n",
            "weighted avg       0.73      0.73      0.73      2000\n",
            "\n"
          ],
          "name": "stdout"
        },
        {
          "output_type": "stream",
          "text": [
            "/usr/local/lib/python3.6/dist-packages/sklearn/linear_model/_ridge.py:940: DataConversionWarning: A column-vector y was passed when a 1d array was expected. Please change the shape of y to (n_samples, ), for example using ravel().\n",
            "  y = column_or_1d(y, warn=True)\n"
          ],
          "name": "stderr"
        }
      ]
    },
    {
      "cell_type": "code",
      "metadata": {
        "id": "4OMChKf5VS8A",
        "colab_type": "code",
        "outputId": "3ead6ce1-39d6-4656-e319-c8bd93001be0",
        "colab": {
          "base_uri": "https://localhost:8080/",
          "height": 258
        }
      },
      "source": [
        "Ridge(TSNE)"
      ],
      "execution_count": 0,
      "outputs": [
        {
          "output_type": "stream",
          "text": [
            "[[867 148]\n",
            " [284 701]]\n",
            "              precision    recall  f1-score   support\n",
            "\n",
            "           0       0.75      0.85      0.80      1015\n",
            "           1       0.83      0.71      0.76       985\n",
            "\n",
            "    accuracy                           0.78      2000\n",
            "   macro avg       0.79      0.78      0.78      2000\n",
            "weighted avg       0.79      0.78      0.78      2000\n",
            "\n"
          ],
          "name": "stdout"
        },
        {
          "output_type": "stream",
          "text": [
            "/usr/local/lib/python3.6/dist-packages/sklearn/linear_model/_ridge.py:940: DataConversionWarning: A column-vector y was passed when a 1d array was expected. Please change the shape of y to (n_samples, ), for example using ravel().\n",
            "  y = column_or_1d(y, warn=True)\n"
          ],
          "name": "stderr"
        }
      ]
    },
    {
      "cell_type": "code",
      "metadata": {
        "id": "BQbv3uazHlnk",
        "colab_type": "code",
        "outputId": "19240cf3-f1c6-419f-eaf3-c04ef1be24ea",
        "colab": {
          "base_uri": "https://localhost:8080/",
          "height": 34
        }
      },
      "source": [
        "Data_X=\"%s/YTSNE.mat\" % (Data_Foldername)\n",
        "TSNE3 =   X=hdf5storage.loadmat(Data_X) \n",
        "TSNE3D=TSNE3['Y']\n",
        "TSNE3D.shape"
      ],
      "execution_count": 0,
      "outputs": [
        {
          "output_type": "execute_result",
          "data": {
            "text/plain": [
              "(10000, 3)"
            ]
          },
          "metadata": {
            "tags": []
          },
          "execution_count": 16
        }
      ]
    },
    {
      "cell_type": "code",
      "metadata": {
        "id": "7vwb8AUqJB5k",
        "colab_type": "code",
        "outputId": "f35e8ed3-34b5-47c1-8b35-62fccc56e223",
        "colab": {
          "base_uri": "https://localhost:8080/",
          "height": 258
        }
      },
      "source": [
        "KNN(TSNE3D,5)"
      ],
      "execution_count": 0,
      "outputs": [
        {
          "output_type": "stream",
          "text": [
            "[[505 510]\n",
            " [492 493]]\n",
            "              precision    recall  f1-score   support\n",
            "\n",
            "           0       0.51      0.50      0.50      1015\n",
            "           1       0.49      0.50      0.50       985\n",
            "\n",
            "    accuracy                           0.50      2000\n",
            "   macro avg       0.50      0.50      0.50      2000\n",
            "weighted avg       0.50      0.50      0.50      2000\n",
            "\n"
          ],
          "name": "stdout"
        },
        {
          "output_type": "stream",
          "text": [
            "/usr/local/lib/python3.6/dist-packages/ipykernel_launcher.py:9: DataConversionWarning: A column-vector y was passed when a 1d array was expected. Please change the shape of y to (n_samples, ), for example using ravel().\n",
            "  if __name__ == '__main__':\n"
          ],
          "name": "stderr"
        }
      ]
    },
    {
      "cell_type": "code",
      "metadata": {
        "id": "g44AFySHKOxX",
        "colab_type": "code",
        "outputId": "1b980f74-c4fb-4f0b-8984-42a4c4cf8fca",
        "colab": {
          "base_uri": "https://localhost:8080/",
          "height": 258
        }
      },
      "source": [
        "Ridge(TSNE3D)"
      ],
      "execution_count": 0,
      "outputs": [
        {
          "output_type": "stream",
          "text": [
            "[[503 512]\n",
            " [443 542]]\n",
            "              precision    recall  f1-score   support\n",
            "\n",
            "           0       0.53      0.50      0.51      1015\n",
            "           1       0.51      0.55      0.53       985\n",
            "\n",
            "    accuracy                           0.52      2000\n",
            "   macro avg       0.52      0.52      0.52      2000\n",
            "weighted avg       0.52      0.52      0.52      2000\n",
            "\n"
          ],
          "name": "stdout"
        },
        {
          "output_type": "stream",
          "text": [
            "/usr/local/lib/python3.6/dist-packages/sklearn/linear_model/_ridge.py:940: DataConversionWarning: A column-vector y was passed when a 1d array was expected. Please change the shape of y to (n_samples, ), for example using ravel().\n",
            "  y = column_or_1d(y, warn=True)\n"
          ],
          "name": "stderr"
        }
      ]
    },
    {
      "cell_type": "code",
      "metadata": {
        "id": "sweA5UgvKUwb",
        "colab_type": "code",
        "outputId": "52771987-7f43-44f6-946c-1e45327410e5",
        "colab": {
          "base_uri": "https://localhost:8080/",
          "height": 258
        }
      },
      "source": [
        "LR(TSNE3D)"
      ],
      "execution_count": 0,
      "outputs": [
        {
          "output_type": "stream",
          "text": [
            "[[503 512]\n",
            " [443 542]]\n",
            "              precision    recall  f1-score   support\n",
            "\n",
            "           0       0.53      0.50      0.51      1015\n",
            "           1       0.51      0.55      0.53       985\n",
            "\n",
            "    accuracy                           0.52      2000\n",
            "   macro avg       0.52      0.52      0.52      2000\n",
            "weighted avg       0.52      0.52      0.52      2000\n",
            "\n"
          ],
          "name": "stdout"
        },
        {
          "output_type": "stream",
          "text": [
            "/usr/local/lib/python3.6/dist-packages/sklearn/utils/validation.py:760: DataConversionWarning: A column-vector y was passed when a 1d array was expected. Please change the shape of y to (n_samples, ), for example using ravel().\n",
            "  y = column_or_1d(y, warn=True)\n"
          ],
          "name": "stderr"
        }
      ]
    },
    {
      "cell_type": "code",
      "metadata": {
        "id": "DifqZSGzKfnm",
        "colab_type": "code",
        "outputId": "16db3168-6f78-4a9c-c2b3-e836e9ee5a10",
        "colab": {
          "base_uri": "https://localhost:8080/",
          "height": 163
        }
      },
      "source": [
        "LR_robust(TSNE)"
      ],
      "execution_count": 0,
      "outputs": [
        {
          "output_type": "error",
          "ename": "NameError",
          "evalue": "ignored",
          "traceback": [
            "\u001b[0;31m---------------------------------------------------------------------------\u001b[0m",
            "\u001b[0;31mNameError\u001b[0m                                 Traceback (most recent call last)",
            "\u001b[0;32m<ipython-input-24-e055f54613f1>\u001b[0m in \u001b[0;36m<module>\u001b[0;34m()\u001b[0m\n\u001b[0;32m----> 1\u001b[0;31m \u001b[0mLR_robust\u001b[0m\u001b[0;34m(\u001b[0m\u001b[0mTSNE\u001b[0m\u001b[0;34m)\u001b[0m\u001b[0;34m\u001b[0m\u001b[0;34m\u001b[0m\u001b[0m\n\u001b[0m",
            "\u001b[0;31mNameError\u001b[0m: name 'LR_robust' is not defined"
          ]
        }
      ]
    },
    {
      "cell_type": "code",
      "metadata": {
        "id": "GglpGeBiKmOc",
        "colab_type": "code",
        "outputId": "21f31843-4c06-4fad-86b0-c4792988b8fa",
        "colab": {
          "base_uri": "https://localhost:8080/",
          "height": 258
        }
      },
      "source": [
        "SVM(TSNE3D,'poly')"
      ],
      "execution_count": 0,
      "outputs": [
        {
          "output_type": "stream",
          "text": [
            "/usr/local/lib/python3.6/dist-packages/sklearn/utils/validation.py:760: DataConversionWarning: A column-vector y was passed when a 1d array was expected. Please change the shape of y to (n_samples, ), for example using ravel().\n",
            "  y = column_or_1d(y, warn=True)\n"
          ],
          "name": "stderr"
        },
        {
          "output_type": "stream",
          "text": [
            "[[355 660]\n",
            " [324 661]]\n",
            "              precision    recall  f1-score   support\n",
            "\n",
            "           0       0.52      0.35      0.42      1015\n",
            "           1       0.50      0.67      0.57       985\n",
            "\n",
            "    accuracy                           0.51      2000\n",
            "   macro avg       0.51      0.51      0.50      2000\n",
            "weighted avg       0.51      0.51      0.50      2000\n",
            "\n"
          ],
          "name": "stdout"
        }
      ]
    },
    {
      "cell_type": "code",
      "metadata": {
        "id": "6T2aI8uXKm5V",
        "colab_type": "code",
        "outputId": "1370065a-8b4e-4039-b2e5-074ca4d40bdb",
        "colab": {
          "base_uri": "https://localhost:8080/",
          "height": 258
        }
      },
      "source": [
        "SVM(TSNE3D,'linear')"
      ],
      "execution_count": 0,
      "outputs": [
        {
          "output_type": "stream",
          "text": [
            "/usr/local/lib/python3.6/dist-packages/sklearn/utils/validation.py:760: DataConversionWarning: A column-vector y was passed when a 1d array was expected. Please change the shape of y to (n_samples, ), for example using ravel().\n",
            "  y = column_or_1d(y, warn=True)\n"
          ],
          "name": "stderr"
        },
        {
          "output_type": "stream",
          "text": [
            "[[582 433]\n",
            " [512 473]]\n",
            "              precision    recall  f1-score   support\n",
            "\n",
            "           0       0.53      0.57      0.55      1015\n",
            "           1       0.52      0.48      0.50       985\n",
            "\n",
            "    accuracy                           0.53      2000\n",
            "   macro avg       0.53      0.53      0.53      2000\n",
            "weighted avg       0.53      0.53      0.53      2000\n",
            "\n"
          ],
          "name": "stdout"
        }
      ]
    },
    {
      "cell_type": "code",
      "metadata": {
        "id": "uS9HqZLxKvPK",
        "colab_type": "code",
        "outputId": "6d2f0475-8ebf-41c3-a9cb-fc98193acc22",
        "colab": {
          "base_uri": "https://localhost:8080/",
          "height": 258
        }
      },
      "source": [
        "SVM(TSNE3D,'rbf')"
      ],
      "execution_count": 0,
      "outputs": [
        {
          "output_type": "stream",
          "text": [
            "/usr/local/lib/python3.6/dist-packages/sklearn/utils/validation.py:760: DataConversionWarning: A column-vector y was passed when a 1d array was expected. Please change the shape of y to (n_samples, ), for example using ravel().\n",
            "  y = column_or_1d(y, warn=True)\n"
          ],
          "name": "stderr"
        },
        {
          "output_type": "stream",
          "text": [
            "[[459 556]\n",
            " [427 558]]\n",
            "              precision    recall  f1-score   support\n",
            "\n",
            "           0       0.52      0.45      0.48      1015\n",
            "           1       0.50      0.57      0.53       985\n",
            "\n",
            "    accuracy                           0.51      2000\n",
            "   macro avg       0.51      0.51      0.51      2000\n",
            "weighted avg       0.51      0.51      0.51      2000\n",
            "\n"
          ],
          "name": "stdout"
        }
      ]
    },
    {
      "cell_type": "code",
      "metadata": {
        "id": "tM5arYmWSQn7",
        "colab_type": "code",
        "outputId": "d24b9ba0-c681-41a1-afd0-40832fff4aa2",
        "colab": {
          "base_uri": "https://localhost:8080/",
          "height": 34
        }
      },
      "source": [
        "with open('X_ltsa', 'rb') as f:\n",
        "     X_ltsa=pickle.load(f) \n",
        "X_ltsa=np.array(X_ltsa)\n",
        "X_ltsa=np.reshape(X_ltsa,(X_ltsa.shape[1],X_ltsa.shape[2]))\n",
        "X_ltsa.shape"
      ],
      "execution_count": 0,
      "outputs": [
        {
          "output_type": "execute_result",
          "data": {
            "text/plain": [
              "(10000, 2)"
            ]
          },
          "metadata": {
            "tags": []
          },
          "execution_count": 18
        }
      ]
    },
    {
      "cell_type": "code",
      "metadata": {
        "id": "xpLW7saWSSLZ",
        "colab_type": "code",
        "outputId": "3588d422-0225-442a-89c0-6a9c7e216fd1",
        "colab": {
          "base_uri": "https://localhost:8080/",
          "height": 238
        }
      },
      "source": [
        "KNN(X_ltsa,5)"
      ],
      "execution_count": 0,
      "outputs": [
        {
          "output_type": "stream",
          "text": [
            "[[492 523]\n",
            " [509 476]]\n",
            "              precision    recall  f1-score   support\n",
            "\n",
            "           0       0.49      0.48      0.49      1015\n",
            "           1       0.48      0.48      0.48       985\n",
            "\n",
            "    accuracy                           0.48      2000\n",
            "   macro avg       0.48      0.48      0.48      2000\n",
            "weighted avg       0.48      0.48      0.48      2000\n",
            "\n"
          ],
          "name": "stdout"
        },
        {
          "output_type": "stream",
          "text": [
            "/usr/local/lib/python3.6/dist-packages/ipykernel_launcher.py:9: DataConversionWarning: A column-vector y was passed when a 1d array was expected. Please change the shape of y to (n_samples, ), for example using ravel().\n",
            "  if __name__ == '__main__':\n"
          ],
          "name": "stderr"
        }
      ]
    },
    {
      "cell_type": "code",
      "metadata": {
        "id": "_ApqhJq0TIgZ",
        "colab_type": "code",
        "outputId": "be6b9b66-1b3b-487d-cd69-a4ebcea3ee79",
        "colab": {
          "base_uri": "https://localhost:8080/",
          "height": 163
        }
      },
      "source": [
        "DT(X_ltsa)"
      ],
      "execution_count": 0,
      "outputs": [
        {
          "output_type": "error",
          "ename": "NameError",
          "evalue": "ignored",
          "traceback": [
            "\u001b[0;31m---------------------------------------------------------------------------\u001b[0m",
            "\u001b[0;31mNameError\u001b[0m                                 Traceback (most recent call last)",
            "\u001b[0;32m<ipython-input-20-2473b44d3aec>\u001b[0m in \u001b[0;36m<module>\u001b[0;34m()\u001b[0m\n\u001b[0;32m----> 1\u001b[0;31m \u001b[0mDT\u001b[0m\u001b[0;34m(\u001b[0m\u001b[0mX_ltsa\u001b[0m\u001b[0;34m)\u001b[0m\u001b[0;34m\u001b[0m\u001b[0;34m\u001b[0m\u001b[0m\n\u001b[0m",
            "\u001b[0;31mNameError\u001b[0m: name 'DT' is not defined"
          ]
        }
      ]
    },
    {
      "cell_type": "code",
      "metadata": {
        "id": "HaAk3zstTlmI",
        "colab_type": "code",
        "outputId": "f82283c2-8a25-4411-d499-6f3e461769c2",
        "colab": {
          "base_uri": "https://localhost:8080/",
          "height": 258
        }
      },
      "source": [
        "LR(X_ltsa)"
      ],
      "execution_count": 0,
      "outputs": [
        {
          "output_type": "stream",
          "text": [
            "[[ 26 989]\n",
            " [ 14 971]]\n",
            "              precision    recall  f1-score   support\n",
            "\n",
            "           0       0.65      0.03      0.05      1015\n",
            "           1       0.50      0.99      0.66       985\n",
            "\n",
            "    accuracy                           0.50      2000\n",
            "   macro avg       0.57      0.51      0.35      2000\n",
            "weighted avg       0.57      0.50      0.35      2000\n",
            "\n"
          ],
          "name": "stdout"
        },
        {
          "output_type": "stream",
          "text": [
            "/usr/local/lib/python3.6/dist-packages/sklearn/utils/validation.py:760: DataConversionWarning: A column-vector y was passed when a 1d array was expected. Please change the shape of y to (n_samples, ), for example using ravel().\n",
            "  y = column_or_1d(y, warn=True)\n"
          ],
          "name": "stderr"
        }
      ]
    },
    {
      "cell_type": "code",
      "metadata": {
        "id": "HDrQlUNjTzOs",
        "colab_type": "code",
        "outputId": "3b277689-1a4b-495c-ed31-01cd7dc8240f",
        "colab": {
          "base_uri": "https://localhost:8080/",
          "height": 258
        }
      },
      "source": [
        "Ridge(X_ltsa)"
      ],
      "execution_count": 0,
      "outputs": [
        {
          "output_type": "stream",
          "text": [
            "[[ 21 994]\n",
            " [ 14 971]]\n",
            "              precision    recall  f1-score   support\n",
            "\n",
            "           0       0.60      0.02      0.04      1015\n",
            "           1       0.49      0.99      0.66       985\n",
            "\n",
            "    accuracy                           0.50      2000\n",
            "   macro avg       0.55      0.50      0.35      2000\n",
            "weighted avg       0.55      0.50      0.34      2000\n",
            "\n"
          ],
          "name": "stdout"
        },
        {
          "output_type": "stream",
          "text": [
            "/usr/local/lib/python3.6/dist-packages/sklearn/linear_model/_ridge.py:940: DataConversionWarning: A column-vector y was passed when a 1d array was expected. Please change the shape of y to (n_samples, ), for example using ravel().\n",
            "  y = column_or_1d(y, warn=True)\n"
          ],
          "name": "stderr"
        }
      ]
    },
    {
      "cell_type": "code",
      "metadata": {
        "id": "_PYSJe-_T5z5",
        "colab_type": "code",
        "outputId": "508dd00d-4ea2-4593-cffa-f154367133d6",
        "colab": {
          "base_uri": "https://localhost:8080/",
          "height": 258
        }
      },
      "source": [
        "SVM(X_ltsa,'linear')"
      ],
      "execution_count": 0,
      "outputs": [
        {
          "output_type": "stream",
          "text": [
            "/usr/local/lib/python3.6/dist-packages/sklearn/utils/validation.py:760: DataConversionWarning: A column-vector y was passed when a 1d array was expected. Please change the shape of y to (n_samples, ), for example using ravel().\n",
            "  y = column_or_1d(y, warn=True)\n"
          ],
          "name": "stderr"
        },
        {
          "output_type": "stream",
          "text": [
            "[[   0 1015]\n",
            " [   3  982]]\n",
            "              precision    recall  f1-score   support\n",
            "\n",
            "           0       0.00      0.00      0.00      1015\n",
            "           1       0.49      1.00      0.66       985\n",
            "\n",
            "    accuracy                           0.49      2000\n",
            "   macro avg       0.25      0.50      0.33      2000\n",
            "weighted avg       0.24      0.49      0.32      2000\n",
            "\n"
          ],
          "name": "stdout"
        }
      ]
    },
    {
      "cell_type": "code",
      "metadata": {
        "id": "WRQK_f1XUWUI",
        "colab_type": "code",
        "outputId": "10eacd8e-0592-446f-cf3b-bcf7021654bd",
        "colab": {
          "base_uri": "https://localhost:8080/",
          "height": 258
        }
      },
      "source": [
        "SVM(X_ltsa,'rbf')"
      ],
      "execution_count": 0,
      "outputs": [
        {
          "output_type": "stream",
          "text": [
            "/usr/local/lib/python3.6/dist-packages/sklearn/utils/validation.py:760: DataConversionWarning: A column-vector y was passed when a 1d array was expected. Please change the shape of y to (n_samples, ), for example using ravel().\n",
            "  y = column_or_1d(y, warn=True)\n"
          ],
          "name": "stderr"
        },
        {
          "output_type": "stream",
          "text": [
            "[[ 40 975]\n",
            " [ 21 964]]\n",
            "              precision    recall  f1-score   support\n",
            "\n",
            "           0       0.66      0.04      0.07      1015\n",
            "           1       0.50      0.98      0.66       985\n",
            "\n",
            "    accuracy                           0.50      2000\n",
            "   macro avg       0.58      0.51      0.37      2000\n",
            "weighted avg       0.58      0.50      0.36      2000\n",
            "\n"
          ],
          "name": "stdout"
        }
      ]
    },
    {
      "cell_type": "code",
      "metadata": {
        "id": "vVbgPQzbUkFK",
        "colab_type": "code",
        "outputId": "2f194276-c704-4d87-a37a-b9c291a7332f",
        "colab": {
          "base_uri": "https://localhost:8080/",
          "height": 258
        }
      },
      "source": [
        "SVM(X_ltsa,'poly')"
      ],
      "execution_count": 0,
      "outputs": [
        {
          "output_type": "stream",
          "text": [
            "/usr/local/lib/python3.6/dist-packages/sklearn/utils/validation.py:760: DataConversionWarning: A column-vector y was passed when a 1d array was expected. Please change the shape of y to (n_samples, ), for example using ravel().\n",
            "  y = column_or_1d(y, warn=True)\n"
          ],
          "name": "stderr"
        },
        {
          "output_type": "stream",
          "text": [
            "[[   0 1015]\n",
            " [   1  984]]\n",
            "              precision    recall  f1-score   support\n",
            "\n",
            "           0       0.00      0.00      0.00      1015\n",
            "           1       0.49      1.00      0.66       985\n",
            "\n",
            "    accuracy                           0.49      2000\n",
            "   macro avg       0.25      0.50      0.33      2000\n",
            "weighted avg       0.24      0.49      0.32      2000\n",
            "\n"
          ],
          "name": "stdout"
        }
      ]
    },
    {
      "cell_type": "code",
      "metadata": {
        "id": "mhtY6L6e5uX3",
        "colab_type": "code",
        "outputId": "8a838657-f3f8-43b9-f149-0c314d631b34",
        "colab": {
          "base_uri": "https://localhost:8080/",
          "height": 34
        }
      },
      "source": [
        "with open('X_DNenco', 'rb') as f:\n",
        "     X_DNenco=pickle.load(f) \n",
        "X_DNenco=np.array(X_DNenco)\n",
        "X_DNenco=np.reshape(X_ltsa,(X_DNenco.shape[1],X_DNenco.shape[2]))\n",
        "X_DNenco.shape"
      ],
      "execution_count": 0,
      "outputs": [
        {
          "output_type": "execute_result",
          "data": {
            "text/plain": [
              "(10000, 2)"
            ]
          },
          "metadata": {
            "tags": []
          },
          "execution_count": 19
        }
      ]
    },
    {
      "cell_type": "code",
      "metadata": {
        "id": "O_-m2aLf7lNI",
        "colab_type": "code",
        "outputId": "8861edea-8ce7-4c60-d11e-cfb4430cfde7",
        "colab": {
          "base_uri": "https://localhost:8080/",
          "height": 258
        }
      },
      "source": [
        "KNN(X_DNenco,5)"
      ],
      "execution_count": 0,
      "outputs": [
        {
          "output_type": "stream",
          "text": [
            "[[492 523]\n",
            " [509 476]]\n",
            "              precision    recall  f1-score   support\n",
            "\n",
            "           0       0.49      0.48      0.49      1015\n",
            "           1       0.48      0.48      0.48       985\n",
            "\n",
            "    accuracy                           0.48      2000\n",
            "   macro avg       0.48      0.48      0.48      2000\n",
            "weighted avg       0.48      0.48      0.48      2000\n",
            "\n"
          ],
          "name": "stdout"
        },
        {
          "output_type": "stream",
          "text": [
            "/usr/local/lib/python3.6/dist-packages/ipykernel_launcher.py:10: DataConversionWarning: A column-vector y was passed when a 1d array was expected. Please change the shape of y to (n_samples, ), for example using ravel().\n",
            "  # Remove the CWD from sys.path while we load stuff.\n"
          ],
          "name": "stderr"
        }
      ]
    },
    {
      "cell_type": "code",
      "metadata": {
        "id": "ENe7TM5m7wI2",
        "colab_type": "code",
        "outputId": "4d771d3c-8b52-41cb-976c-383f0bd1b41c",
        "colab": {
          "base_uri": "https://localhost:8080/",
          "height": 204
        }
      },
      "source": [
        "DT(X_DNenco)"
      ],
      "execution_count": 0,
      "outputs": [
        {
          "output_type": "stream",
          "text": [
            "[[895 120]\n",
            " [851 134]]\n",
            "              precision    recall  f1-score   support\n",
            "\n",
            "           0       0.51      0.88      0.65      1015\n",
            "           1       0.53      0.14      0.22       985\n",
            "\n",
            "    accuracy                           0.51      2000\n",
            "   macro avg       0.52      0.51      0.43      2000\n",
            "weighted avg       0.52      0.51      0.44      2000\n",
            "\n"
          ],
          "name": "stdout"
        }
      ]
    },
    {
      "cell_type": "code",
      "metadata": {
        "id": "q1XhdvaS73wW",
        "colab_type": "code",
        "outputId": "baeef36b-b85c-4639-bc90-c6dfc6998a04",
        "colab": {
          "base_uri": "https://localhost:8080/",
          "height": 258
        }
      },
      "source": [
        "LR(X_DNenco)"
      ],
      "execution_count": 0,
      "outputs": [
        {
          "output_type": "stream",
          "text": [
            "[[  15 1000]\n",
            " [  11  974]]\n",
            "              precision    recall  f1-score   support\n",
            "\n",
            "           0       0.58      0.01      0.03      1015\n",
            "           1       0.49      0.99      0.66       985\n",
            "\n",
            "    accuracy                           0.49      2000\n",
            "   macro avg       0.54      0.50      0.34      2000\n",
            "weighted avg       0.54      0.49      0.34      2000\n",
            "\n"
          ],
          "name": "stdout"
        },
        {
          "output_type": "stream",
          "text": [
            "/usr/local/lib/python3.6/dist-packages/sklearn/utils/validation.py:760: DataConversionWarning: A column-vector y was passed when a 1d array was expected. Please change the shape of y to (n_samples, ), for example using ravel().\n",
            "  y = column_or_1d(y, warn=True)\n"
          ],
          "name": "stderr"
        }
      ]
    },
    {
      "cell_type": "code",
      "metadata": {
        "id": "E_TNOTD0792Z",
        "colab_type": "code",
        "outputId": "4eb022ae-756e-4a61-84e5-d5440d0647d9",
        "colab": {
          "base_uri": "https://localhost:8080/",
          "height": 258
        }
      },
      "source": [
        "Ridge(X_DNenco)"
      ],
      "execution_count": 0,
      "outputs": [
        {
          "output_type": "stream",
          "text": [
            "[[  13 1002]\n",
            " [  10  975]]\n",
            "              precision    recall  f1-score   support\n",
            "\n",
            "           0       0.57      0.01      0.03      1015\n",
            "           1       0.49      0.99      0.66       985\n",
            "\n",
            "    accuracy                           0.49      2000\n",
            "   macro avg       0.53      0.50      0.34      2000\n",
            "weighted avg       0.53      0.49      0.34      2000\n",
            "\n"
          ],
          "name": "stdout"
        },
        {
          "output_type": "stream",
          "text": [
            "/usr/local/lib/python3.6/dist-packages/sklearn/linear_model/_ridge.py:940: DataConversionWarning: A column-vector y was passed when a 1d array was expected. Please change the shape of y to (n_samples, ), for example using ravel().\n",
            "  y = column_or_1d(y, warn=True)\n"
          ],
          "name": "stderr"
        }
      ]
    },
    {
      "cell_type": "code",
      "metadata": {
        "id": "FUxw3dvi8GRT",
        "colab_type": "code",
        "outputId": "8f5f40bc-d513-4cb2-bc20-1dd4b5dcd58a",
        "colab": {
          "base_uri": "https://localhost:8080/",
          "height": 292
        }
      },
      "source": [
        "SVM(X_DNenco,'linear')"
      ],
      "execution_count": 0,
      "outputs": [
        {
          "output_type": "stream",
          "text": [
            "/usr/local/lib/python3.6/dist-packages/sklearn/utils/validation.py:760: DataConversionWarning: A column-vector y was passed when a 1d array was expected. Please change the shape of y to (n_samples, ), for example using ravel().\n",
            "  y = column_or_1d(y, warn=True)\n"
          ],
          "name": "stderr"
        },
        {
          "output_type": "stream",
          "text": [
            "[[   0 1015]\n",
            " [   0  985]]\n",
            "              precision    recall  f1-score   support\n",
            "\n",
            "           0       0.00      0.00      0.00      1015\n",
            "           1       0.49      1.00      0.66       985\n",
            "\n",
            "    accuracy                           0.49      2000\n",
            "   macro avg       0.25      0.50      0.33      2000\n",
            "weighted avg       0.24      0.49      0.33      2000\n",
            "\n"
          ],
          "name": "stdout"
        },
        {
          "output_type": "stream",
          "text": [
            "/usr/local/lib/python3.6/dist-packages/sklearn/metrics/_classification.py:1272: UndefinedMetricWarning: Precision and F-score are ill-defined and being set to 0.0 in labels with no predicted samples. Use `zero_division` parameter to control this behavior.\n",
            "  _warn_prf(average, modifier, msg_start, len(result))\n"
          ],
          "name": "stderr"
        }
      ]
    },
    {
      "cell_type": "code",
      "metadata": {
        "id": "l7mlRFMS8QLo",
        "colab_type": "code",
        "outputId": "66405113-d536-4e2d-d59d-c171e1d14f4b",
        "colab": {
          "base_uri": "https://localhost:8080/",
          "height": 258
        }
      },
      "source": [
        "SVM(X_DNenco,'rbf')"
      ],
      "execution_count": 0,
      "outputs": [
        {
          "output_type": "stream",
          "text": [
            "/usr/local/lib/python3.6/dist-packages/sklearn/utils/validation.py:760: DataConversionWarning: A column-vector y was passed when a 1d array was expected. Please change the shape of y to (n_samples, ), for example using ravel().\n",
            "  y = column_or_1d(y, warn=True)\n"
          ],
          "name": "stderr"
        },
        {
          "output_type": "stream",
          "text": [
            "[[   5 1010]\n",
            " [   2  983]]\n",
            "              precision    recall  f1-score   support\n",
            "\n",
            "           0       0.71      0.00      0.01      1015\n",
            "           1       0.49      1.00      0.66       985\n",
            "\n",
            "    accuracy                           0.49      2000\n",
            "   macro avg       0.60      0.50      0.33      2000\n",
            "weighted avg       0.61      0.49      0.33      2000\n",
            "\n"
          ],
          "name": "stdout"
        }
      ]
    },
    {
      "cell_type": "code",
      "metadata": {
        "id": "5KtriRUz8dY3",
        "colab_type": "code",
        "outputId": "022f4de8-81e1-4ae2-e18c-861bdce73ec4",
        "colab": {
          "base_uri": "https://localhost:8080/",
          "height": 292
        }
      },
      "source": [
        "SVM(X_DNenco,'poly')\n"
      ],
      "execution_count": 0,
      "outputs": [
        {
          "output_type": "stream",
          "text": [
            "/usr/local/lib/python3.6/dist-packages/sklearn/utils/validation.py:760: DataConversionWarning: A column-vector y was passed when a 1d array was expected. Please change the shape of y to (n_samples, ), for example using ravel().\n",
            "  y = column_or_1d(y, warn=True)\n"
          ],
          "name": "stderr"
        },
        {
          "output_type": "stream",
          "text": [
            "[[   0 1015]\n",
            " [   0  985]]\n",
            "              precision    recall  f1-score   support\n",
            "\n",
            "           0       0.00      0.00      0.00      1015\n",
            "           1       0.49      1.00      0.66       985\n",
            "\n",
            "    accuracy                           0.49      2000\n",
            "   macro avg       0.25      0.50      0.33      2000\n",
            "weighted avg       0.24      0.49      0.33      2000\n",
            "\n"
          ],
          "name": "stdout"
        },
        {
          "output_type": "stream",
          "text": [
            "/usr/local/lib/python3.6/dist-packages/sklearn/metrics/_classification.py:1272: UndefinedMetricWarning: Precision and F-score are ill-defined and being set to 0.0 in labels with no predicted samples. Use `zero_division` parameter to control this behavior.\n",
            "  _warn_prf(average, modifier, msg_start, len(result))\n"
          ],
          "name": "stderr"
        }
      ]
    },
    {
      "cell_type": "code",
      "metadata": {
        "id": "_m_yv5oMVh_f",
        "colab_type": "code",
        "colab": {}
      },
      "source": [
        "#calculation for DNN\n",
        "def DNN(X,Niter):\n",
        " X_train, X_test, y_train, y_test = train_test_split(X, label_y, test_size=0.20,random_state = 42)\n",
        " from sklearn.preprocessing import StandardScaler\n",
        " scaler = StandardScaler()\n",
        " scaler.fit(X_train)\n",
        " X_train = scaler.transform(X_train)\n",
        " X_test = scaler.transform(X_test)\n",
        " import tensorflow as tf\n",
        " import tensorflow_addons as tfa\n",
        " from tensorflow import keras \n",
        "\n",
        " model = keras.Sequential([\n",
        "    #keras.layers.Flatten(input_shape=(2)),\n",
        "    keras.layers.Dense(128, activation='relu'),\n",
        "    keras.layers.Dropout(0.3),\n",
        "    keras.layers.Dense(32, activation='relu'),\n",
        "    keras.layers.Dense(1,activation='sigmoid')\n",
        " ])\n",
        " model.compile(optimizer='adam',\n",
        "              loss=tf.keras.losses.BinaryCrossentropy(),\n",
        "              metrics=['accuracy'])\n",
        " model.fit(X_train, y_train, epochs=Niter)\n",
        " test_loss, test_acc = model.evaluate(X_test, y_test) \n",
        " print('Test Accuracy:', test_acc)\n",
        " y_pred =model.predict(X_test)\n",
        " y_pred1=(y_pred>0.5)\n",
        " print(confusion_matrix(y_test, y_pred1))\n",
        " print(classification_report(y_test, y_pred1))"
      ],
      "execution_count": 0,
      "outputs": []
    },
    {
      "cell_type": "code",
      "metadata": {
        "id": "LWI-6kjsYbby",
        "colab_type": "code",
        "outputId": "9e85b57a-30cf-433f-e5c6-22670d9025ef",
        "colab": {
          "base_uri": "https://localhost:8080/",
          "height": 1000
        }
      },
      "source": [
        "DNN(MDS,50)"
      ],
      "execution_count": 0,
      "outputs": [
        {
          "output_type": "stream",
          "text": [
            "Epoch 1/50\n",
            "250/250 [==============================] - 0s 2ms/step - loss: 0.2406 - accuracy: 0.9055\n",
            "Epoch 2/50\n",
            "250/250 [==============================] - 0s 2ms/step - loss: 0.1546 - accuracy: 0.9359\n",
            "Epoch 3/50\n",
            "250/250 [==============================] - 0s 2ms/step - loss: 0.1461 - accuracy: 0.9409\n",
            "Epoch 4/50\n",
            "250/250 [==============================] - 0s 2ms/step - loss: 0.1371 - accuracy: 0.9444\n",
            "Epoch 5/50\n",
            "250/250 [==============================] - 0s 2ms/step - loss: 0.1393 - accuracy: 0.9448\n",
            "Epoch 6/50\n",
            "250/250 [==============================] - 0s 2ms/step - loss: 0.1368 - accuracy: 0.9471\n",
            "Epoch 7/50\n",
            "250/250 [==============================] - 0s 2ms/step - loss: 0.1351 - accuracy: 0.9464\n",
            "Epoch 8/50\n",
            "250/250 [==============================] - 0s 2ms/step - loss: 0.1334 - accuracy: 0.9473\n",
            "Epoch 9/50\n",
            "250/250 [==============================] - 0s 2ms/step - loss: 0.1302 - accuracy: 0.9480\n",
            "Epoch 10/50\n",
            "250/250 [==============================] - 0s 2ms/step - loss: 0.1320 - accuracy: 0.9486\n",
            "Epoch 11/50\n",
            "250/250 [==============================] - 0s 2ms/step - loss: 0.1329 - accuracy: 0.9491\n",
            "Epoch 12/50\n",
            "250/250 [==============================] - 0s 2ms/step - loss: 0.1298 - accuracy: 0.9471\n",
            "Epoch 13/50\n",
            "250/250 [==============================] - 0s 2ms/step - loss: 0.1298 - accuracy: 0.9475\n",
            "Epoch 14/50\n",
            "250/250 [==============================] - 0s 2ms/step - loss: 0.1316 - accuracy: 0.9476\n",
            "Epoch 15/50\n",
            "250/250 [==============================] - 0s 2ms/step - loss: 0.1283 - accuracy: 0.9515\n",
            "Epoch 16/50\n",
            "250/250 [==============================] - 0s 2ms/step - loss: 0.1300 - accuracy: 0.9480\n",
            "Epoch 17/50\n",
            "250/250 [==============================] - 0s 2ms/step - loss: 0.1296 - accuracy: 0.9498\n",
            "Epoch 18/50\n",
            "250/250 [==============================] - 0s 2ms/step - loss: 0.1269 - accuracy: 0.9511\n",
            "Epoch 19/50\n",
            "250/250 [==============================] - 0s 2ms/step - loss: 0.1288 - accuracy: 0.9481\n",
            "Epoch 20/50\n",
            "250/250 [==============================] - 0s 2ms/step - loss: 0.1257 - accuracy: 0.9489\n",
            "Epoch 21/50\n",
            "250/250 [==============================] - 0s 2ms/step - loss: 0.1283 - accuracy: 0.9495\n",
            "Epoch 22/50\n",
            "250/250 [==============================] - 0s 2ms/step - loss: 0.1273 - accuracy: 0.9503\n",
            "Epoch 23/50\n",
            "250/250 [==============================] - 0s 2ms/step - loss: 0.1298 - accuracy: 0.9486\n",
            "Epoch 24/50\n",
            "250/250 [==============================] - 0s 2ms/step - loss: 0.1228 - accuracy: 0.9520\n",
            "Epoch 25/50\n",
            "250/250 [==============================] - 0s 2ms/step - loss: 0.1257 - accuracy: 0.9515\n",
            "Epoch 26/50\n",
            "250/250 [==============================] - 0s 2ms/step - loss: 0.1232 - accuracy: 0.9505\n",
            "Epoch 27/50\n",
            "250/250 [==============================] - 0s 2ms/step - loss: 0.1247 - accuracy: 0.9514\n",
            "Epoch 28/50\n",
            "250/250 [==============================] - 0s 2ms/step - loss: 0.1245 - accuracy: 0.9504\n",
            "Epoch 29/50\n",
            "250/250 [==============================] - 0s 2ms/step - loss: 0.1241 - accuracy: 0.9510\n",
            "Epoch 30/50\n",
            "250/250 [==============================] - 0s 2ms/step - loss: 0.1256 - accuracy: 0.9495\n",
            "Epoch 31/50\n",
            "250/250 [==============================] - 0s 2ms/step - loss: 0.1272 - accuracy: 0.9507\n",
            "Epoch 32/50\n",
            "250/250 [==============================] - 0s 2ms/step - loss: 0.1251 - accuracy: 0.9505\n",
            "Epoch 33/50\n",
            "250/250 [==============================] - 0s 2ms/step - loss: 0.1210 - accuracy: 0.9524\n",
            "Epoch 34/50\n",
            "250/250 [==============================] - 0s 2ms/step - loss: 0.1239 - accuracy: 0.9515\n",
            "Epoch 35/50\n",
            "250/250 [==============================] - 0s 2ms/step - loss: 0.1232 - accuracy: 0.9491\n",
            "Epoch 36/50\n",
            "250/250 [==============================] - 0s 2ms/step - loss: 0.1236 - accuracy: 0.9509\n",
            "Epoch 37/50\n",
            "250/250 [==============================] - 0s 2ms/step - loss: 0.1207 - accuracy: 0.9528\n",
            "Epoch 38/50\n",
            "250/250 [==============================] - 0s 2ms/step - loss: 0.1230 - accuracy: 0.9492\n",
            "Epoch 39/50\n",
            "250/250 [==============================] - 0s 2ms/step - loss: 0.1202 - accuracy: 0.9517\n",
            "Epoch 40/50\n",
            "250/250 [==============================] - 0s 2ms/step - loss: 0.1212 - accuracy: 0.9530\n",
            "Epoch 41/50\n",
            "250/250 [==============================] - 0s 2ms/step - loss: 0.1205 - accuracy: 0.9530\n",
            "Epoch 42/50\n",
            "250/250 [==============================] - 0s 2ms/step - loss: 0.1224 - accuracy: 0.9511\n",
            "Epoch 43/50\n",
            "250/250 [==============================] - 0s 2ms/step - loss: 0.1220 - accuracy: 0.9534\n",
            "Epoch 44/50\n",
            "250/250 [==============================] - 0s 2ms/step - loss: 0.1191 - accuracy: 0.9535\n",
            "Epoch 45/50\n",
            "250/250 [==============================] - 0s 2ms/step - loss: 0.1201 - accuracy: 0.9521\n",
            "Epoch 46/50\n",
            "250/250 [==============================] - 0s 2ms/step - loss: 0.1217 - accuracy: 0.9531\n",
            "Epoch 47/50\n",
            "250/250 [==============================] - 0s 2ms/step - loss: 0.1191 - accuracy: 0.9528\n",
            "Epoch 48/50\n",
            "250/250 [==============================] - 0s 2ms/step - loss: 0.1215 - accuracy: 0.9517\n",
            "Epoch 49/50\n",
            "250/250 [==============================] - 0s 2ms/step - loss: 0.1198 - accuracy: 0.9505\n",
            "Epoch 50/50\n",
            "250/250 [==============================] - 0s 2ms/step - loss: 0.1194 - accuracy: 0.9538\n",
            "63/63 [==============================] - 0s 1ms/step - loss: 0.1035 - accuracy: 0.9585\n",
            "Test Accuracy: 0.9585000276565552\n",
            "[[974  41]\n",
            " [ 42 943]]\n",
            "              precision    recall  f1-score   support\n",
            "\n",
            "           0       0.96      0.96      0.96      1015\n",
            "           1       0.96      0.96      0.96       985\n",
            "\n",
            "    accuracy                           0.96      2000\n",
            "   macro avg       0.96      0.96      0.96      2000\n",
            "weighted avg       0.96      0.96      0.96      2000\n",
            "\n"
          ],
          "name": "stdout"
        }
      ]
    },
    {
      "cell_type": "code",
      "metadata": {
        "id": "gaH5SCnsyfdV",
        "colab_type": "code",
        "outputId": "39c98076-89e5-4cf5-f329-531bef32dbdb",
        "colab": {
          "base_uri": "https://localhost:8080/",
          "height": 1000
        }
      },
      "source": [
        "DNN(PCA,50)"
      ],
      "execution_count": 0,
      "outputs": [
        {
          "output_type": "stream",
          "text": [
            "Epoch 1/50\n",
            "250/250 [==============================] - 0s 2ms/step - loss: 0.3784 - accuracy: 0.8244\n",
            "Epoch 2/50\n",
            "250/250 [==============================] - 0s 2ms/step - loss: 0.3276 - accuracy: 0.8529\n",
            "Epoch 3/50\n",
            "250/250 [==============================] - 0s 2ms/step - loss: 0.3250 - accuracy: 0.8535\n",
            "Epoch 4/50\n",
            "250/250 [==============================] - 0s 2ms/step - loss: 0.3212 - accuracy: 0.8616\n",
            "Epoch 5/50\n",
            "250/250 [==============================] - 0s 2ms/step - loss: 0.3223 - accuracy: 0.8566\n",
            "Epoch 6/50\n",
            "250/250 [==============================] - 0s 2ms/step - loss: 0.3220 - accuracy: 0.8600\n",
            "Epoch 7/50\n",
            "250/250 [==============================] - 0s 2ms/step - loss: 0.3225 - accuracy: 0.8565\n",
            "Epoch 8/50\n",
            "250/250 [==============================] - 0s 2ms/step - loss: 0.3210 - accuracy: 0.8580\n",
            "Epoch 9/50\n",
            "250/250 [==============================] - 0s 2ms/step - loss: 0.3215 - accuracy: 0.8559\n",
            "Epoch 10/50\n",
            "250/250 [==============================] - 0s 2ms/step - loss: 0.3208 - accuracy: 0.8559\n",
            "Epoch 11/50\n",
            "250/250 [==============================] - 0s 2ms/step - loss: 0.3204 - accuracy: 0.8580\n",
            "Epoch 12/50\n",
            "250/250 [==============================] - 0s 2ms/step - loss: 0.3195 - accuracy: 0.8581\n",
            "Epoch 13/50\n",
            "250/250 [==============================] - 0s 2ms/step - loss: 0.3201 - accuracy: 0.8596\n",
            "Epoch 14/50\n",
            "250/250 [==============================] - 0s 2ms/step - loss: 0.3189 - accuracy: 0.8581\n",
            "Epoch 15/50\n",
            "250/250 [==============================] - 0s 2ms/step - loss: 0.3202 - accuracy: 0.8593\n",
            "Epoch 16/50\n",
            "250/250 [==============================] - 0s 2ms/step - loss: 0.3176 - accuracy: 0.8574\n",
            "Epoch 17/50\n",
            "250/250 [==============================] - 0s 2ms/step - loss: 0.3184 - accuracy: 0.8571\n",
            "Epoch 18/50\n",
            "250/250 [==============================] - 0s 2ms/step - loss: 0.3172 - accuracy: 0.8580\n",
            "Epoch 19/50\n",
            "250/250 [==============================] - 0s 2ms/step - loss: 0.3184 - accuracy: 0.8595\n",
            "Epoch 20/50\n",
            "250/250 [==============================] - 0s 2ms/step - loss: 0.3181 - accuracy: 0.8600\n",
            "Epoch 21/50\n",
            "250/250 [==============================] - 0s 2ms/step - loss: 0.3180 - accuracy: 0.8589\n",
            "Epoch 22/50\n",
            "250/250 [==============================] - 0s 2ms/step - loss: 0.3184 - accuracy: 0.8608\n",
            "Epoch 23/50\n",
            "250/250 [==============================] - 0s 2ms/step - loss: 0.3169 - accuracy: 0.8599\n",
            "Epoch 24/50\n",
            "250/250 [==============================] - 0s 2ms/step - loss: 0.3162 - accuracy: 0.8594\n",
            "Epoch 25/50\n",
            "250/250 [==============================] - 0s 2ms/step - loss: 0.3184 - accuracy: 0.8601\n",
            "Epoch 26/50\n",
            "250/250 [==============================] - 0s 2ms/step - loss: 0.3183 - accuracy: 0.8599\n",
            "Epoch 27/50\n",
            "250/250 [==============================] - 0s 2ms/step - loss: 0.3191 - accuracy: 0.8583\n",
            "Epoch 28/50\n",
            "250/250 [==============================] - 0s 2ms/step - loss: 0.3178 - accuracy: 0.8594\n",
            "Epoch 29/50\n",
            "250/250 [==============================] - 0s 2ms/step - loss: 0.3164 - accuracy: 0.8593\n",
            "Epoch 30/50\n",
            "250/250 [==============================] - 0s 2ms/step - loss: 0.3174 - accuracy: 0.8586\n",
            "Epoch 31/50\n",
            "250/250 [==============================] - 0s 2ms/step - loss: 0.3158 - accuracy: 0.8591\n",
            "Epoch 32/50\n",
            "250/250 [==============================] - 0s 2ms/step - loss: 0.3161 - accuracy: 0.8593\n",
            "Epoch 33/50\n",
            "250/250 [==============================] - 0s 2ms/step - loss: 0.3160 - accuracy: 0.8625\n",
            "Epoch 34/50\n",
            "250/250 [==============================] - 0s 2ms/step - loss: 0.3156 - accuracy: 0.8597\n",
            "Epoch 35/50\n",
            "250/250 [==============================] - 0s 2ms/step - loss: 0.3166 - accuracy: 0.8604\n",
            "Epoch 36/50\n",
            "250/250 [==============================] - 0s 2ms/step - loss: 0.3167 - accuracy: 0.8630\n",
            "Epoch 37/50\n",
            "250/250 [==============================] - 0s 2ms/step - loss: 0.3169 - accuracy: 0.8611\n",
            "Epoch 38/50\n",
            "250/250 [==============================] - 0s 2ms/step - loss: 0.3166 - accuracy: 0.8600\n",
            "Epoch 39/50\n",
            "250/250 [==============================] - 0s 2ms/step - loss: 0.3173 - accuracy: 0.8597\n",
            "Epoch 40/50\n",
            "250/250 [==============================] - 0s 2ms/step - loss: 0.3167 - accuracy: 0.8619\n",
            "Epoch 41/50\n",
            "250/250 [==============================] - 0s 2ms/step - loss: 0.3173 - accuracy: 0.8626\n",
            "Epoch 42/50\n",
            "250/250 [==============================] - 0s 2ms/step - loss: 0.3151 - accuracy: 0.8622\n",
            "Epoch 43/50\n",
            "250/250 [==============================] - 0s 2ms/step - loss: 0.3179 - accuracy: 0.8612\n",
            "Epoch 44/50\n",
            "250/250 [==============================] - 0s 2ms/step - loss: 0.3177 - accuracy: 0.8591\n",
            "Epoch 45/50\n",
            "250/250 [==============================] - 0s 2ms/step - loss: 0.3171 - accuracy: 0.8618\n",
            "Epoch 46/50\n",
            "250/250 [==============================] - 0s 2ms/step - loss: 0.3169 - accuracy: 0.8599\n",
            "Epoch 47/50\n",
            "250/250 [==============================] - 0s 2ms/step - loss: 0.3170 - accuracy: 0.8604\n",
            "Epoch 48/50\n",
            "250/250 [==============================] - 0s 2ms/step - loss: 0.3156 - accuracy: 0.8599\n",
            "Epoch 49/50\n",
            "250/250 [==============================] - 0s 2ms/step - loss: 0.3174 - accuracy: 0.8605\n",
            "Epoch 50/50\n",
            "250/250 [==============================] - 0s 2ms/step - loss: 0.3167 - accuracy: 0.8590\n",
            "63/63 [==============================] - 0s 1ms/step - loss: 0.3109 - accuracy: 0.8630\n",
            "Test Accuracy: 0.8629999756813049\n",
            "[[935  80]\n",
            " [194 791]]\n",
            "              precision    recall  f1-score   support\n",
            "\n",
            "           0       0.83      0.92      0.87      1015\n",
            "           1       0.91      0.80      0.85       985\n",
            "\n",
            "    accuracy                           0.86      2000\n",
            "   macro avg       0.87      0.86      0.86      2000\n",
            "weighted avg       0.87      0.86      0.86      2000\n",
            "\n"
          ],
          "name": "stdout"
        }
      ]
    },
    {
      "cell_type": "code",
      "metadata": {
        "id": "se8FZsUa5FHZ",
        "colab_type": "code",
        "outputId": "5fe79695-74e0-4926-db8e-e3ca8fdf09a9",
        "colab": {
          "base_uri": "https://localhost:8080/",
          "height": 1000
        }
      },
      "source": [
        "DNN(ISOMAP,50)"
      ],
      "execution_count": 0,
      "outputs": [
        {
          "output_type": "stream",
          "text": [
            "Epoch 1/50\n",
            "250/250 [==============================] - 0s 2ms/step - loss: 0.3552 - accuracy: 0.8454\n",
            "Epoch 2/50\n",
            "250/250 [==============================] - 0s 2ms/step - loss: 0.2558 - accuracy: 0.9000\n",
            "Epoch 3/50\n",
            "250/250 [==============================] - 0s 2ms/step - loss: 0.2377 - accuracy: 0.9080\n",
            "Epoch 4/50\n",
            "250/250 [==============================] - 0s 2ms/step - loss: 0.2397 - accuracy: 0.9094\n",
            "Epoch 5/50\n",
            "250/250 [==============================] - 0s 2ms/step - loss: 0.2313 - accuracy: 0.9125\n",
            "Epoch 6/50\n",
            "250/250 [==============================] - 0s 2ms/step - loss: 0.2254 - accuracy: 0.9141\n",
            "Epoch 7/50\n",
            "250/250 [==============================] - 0s 2ms/step - loss: 0.2187 - accuracy: 0.9162\n",
            "Epoch 8/50\n",
            "250/250 [==============================] - 0s 2ms/step - loss: 0.2135 - accuracy: 0.9184\n",
            "Epoch 9/50\n",
            "250/250 [==============================] - 0s 2ms/step - loss: 0.2105 - accuracy: 0.9202\n",
            "Epoch 10/50\n",
            "250/250 [==============================] - 0s 2ms/step - loss: 0.2099 - accuracy: 0.9193\n",
            "Epoch 11/50\n",
            "250/250 [==============================] - 0s 2ms/step - loss: 0.2060 - accuracy: 0.9197\n",
            "Epoch 12/50\n",
            "250/250 [==============================] - 0s 2ms/step - loss: 0.2051 - accuracy: 0.9193\n",
            "Epoch 13/50\n",
            "250/250 [==============================] - 0s 2ms/step - loss: 0.2013 - accuracy: 0.9215\n",
            "Epoch 14/50\n",
            "250/250 [==============================] - 0s 2ms/step - loss: 0.2014 - accuracy: 0.9209\n",
            "Epoch 15/50\n",
            "250/250 [==============================] - 0s 2ms/step - loss: 0.2045 - accuracy: 0.9194\n",
            "Epoch 16/50\n",
            "250/250 [==============================] - 0s 2ms/step - loss: 0.2017 - accuracy: 0.9199\n",
            "Epoch 17/50\n",
            "250/250 [==============================] - 0s 2ms/step - loss: 0.1992 - accuracy: 0.9218\n",
            "Epoch 18/50\n",
            "250/250 [==============================] - 0s 2ms/step - loss: 0.1974 - accuracy: 0.9220\n",
            "Epoch 19/50\n",
            "250/250 [==============================] - 0s 2ms/step - loss: 0.1957 - accuracy: 0.9275\n",
            "Epoch 20/50\n",
            "250/250 [==============================] - 0s 2ms/step - loss: 0.1978 - accuracy: 0.9266\n",
            "Epoch 21/50\n",
            "250/250 [==============================] - 0s 2ms/step - loss: 0.1939 - accuracy: 0.9264\n",
            "Epoch 22/50\n",
            "250/250 [==============================] - 0s 2ms/step - loss: 0.1949 - accuracy: 0.9254\n",
            "Epoch 23/50\n",
            "250/250 [==============================] - 0s 2ms/step - loss: 0.1945 - accuracy: 0.9259\n",
            "Epoch 24/50\n",
            "250/250 [==============================] - 0s 2ms/step - loss: 0.1955 - accuracy: 0.9236\n",
            "Epoch 25/50\n",
            "250/250 [==============================] - 0s 2ms/step - loss: 0.1918 - accuracy: 0.9280\n",
            "Epoch 26/50\n",
            "250/250 [==============================] - 0s 2ms/step - loss: 0.1919 - accuracy: 0.9265\n",
            "Epoch 27/50\n",
            "250/250 [==============================] - 0s 2ms/step - loss: 0.1937 - accuracy: 0.9274\n",
            "Epoch 28/50\n",
            "250/250 [==============================] - 0s 2ms/step - loss: 0.1890 - accuracy: 0.9286\n",
            "Epoch 29/50\n",
            "250/250 [==============================] - 0s 2ms/step - loss: 0.1907 - accuracy: 0.9264\n",
            "Epoch 30/50\n",
            "250/250 [==============================] - 0s 2ms/step - loss: 0.1914 - accuracy: 0.9270\n",
            "Epoch 31/50\n",
            "250/250 [==============================] - 0s 2ms/step - loss: 0.1910 - accuracy: 0.9300\n",
            "Epoch 32/50\n",
            "250/250 [==============================] - 0s 2ms/step - loss: 0.1928 - accuracy: 0.9269\n",
            "Epoch 33/50\n",
            "250/250 [==============================] - 0s 2ms/step - loss: 0.1908 - accuracy: 0.9268\n",
            "Epoch 34/50\n",
            "250/250 [==============================] - 0s 2ms/step - loss: 0.1907 - accuracy: 0.9281\n",
            "Epoch 35/50\n",
            "250/250 [==============================] - 0s 2ms/step - loss: 0.1863 - accuracy: 0.9281\n",
            "Epoch 36/50\n",
            "250/250 [==============================] - 0s 2ms/step - loss: 0.1910 - accuracy: 0.9296\n",
            "Epoch 37/50\n",
            "250/250 [==============================] - 0s 2ms/step - loss: 0.1894 - accuracy: 0.9289\n",
            "Epoch 38/50\n",
            "250/250 [==============================] - 0s 2ms/step - loss: 0.1859 - accuracy: 0.9304\n",
            "Epoch 39/50\n",
            "250/250 [==============================] - 0s 2ms/step - loss: 0.1924 - accuracy: 0.9275\n",
            "Epoch 40/50\n",
            "250/250 [==============================] - 0s 2ms/step - loss: 0.1882 - accuracy: 0.9275\n",
            "Epoch 41/50\n",
            "250/250 [==============================] - 0s 2ms/step - loss: 0.1895 - accuracy: 0.9289\n",
            "Epoch 42/50\n",
            "250/250 [==============================] - 0s 2ms/step - loss: 0.1876 - accuracy: 0.9315\n",
            "Epoch 43/50\n",
            "250/250 [==============================] - 0s 2ms/step - loss: 0.1905 - accuracy: 0.9289\n",
            "Epoch 44/50\n",
            "250/250 [==============================] - 0s 2ms/step - loss: 0.1887 - accuracy: 0.9280\n",
            "Epoch 45/50\n",
            "250/250 [==============================] - 0s 2ms/step - loss: 0.1887 - accuracy: 0.9286\n",
            "Epoch 46/50\n",
            "250/250 [==============================] - 0s 2ms/step - loss: 0.1872 - accuracy: 0.9315\n",
            "Epoch 47/50\n",
            "250/250 [==============================] - 0s 2ms/step - loss: 0.1891 - accuracy: 0.9279\n",
            "Epoch 48/50\n",
            "250/250 [==============================] - 0s 2ms/step - loss: 0.1865 - accuracy: 0.9300\n",
            "Epoch 49/50\n",
            "250/250 [==============================] - 0s 2ms/step - loss: 0.1870 - accuracy: 0.9302\n",
            "Epoch 50/50\n",
            "250/250 [==============================] - 0s 2ms/step - loss: 0.1868 - accuracy: 0.9284\n",
            "63/63 [==============================] - 0s 994us/step - loss: 0.1959 - accuracy: 0.9315\n",
            "Test Accuracy: 0.9315000176429749\n",
            "[[962  53]\n",
            " [ 84 901]]\n",
            "              precision    recall  f1-score   support\n",
            "\n",
            "           0       0.92      0.95      0.93      1015\n",
            "           1       0.94      0.91      0.93       985\n",
            "\n",
            "    accuracy                           0.93      2000\n",
            "   macro avg       0.93      0.93      0.93      2000\n",
            "weighted avg       0.93      0.93      0.93      2000\n",
            "\n"
          ],
          "name": "stdout"
        }
      ]
    },
    {
      "cell_type": "code",
      "metadata": {
        "id": "eUy2YteP5Uqf",
        "colab_type": "code",
        "outputId": "37cd77d4-425d-45d0-c93a-718531948fef",
        "colab": {
          "base_uri": "https://localhost:8080/",
          "height": 1000
        }
      },
      "source": [
        "DNN(TSNE,50)"
      ],
      "execution_count": 0,
      "outputs": [
        {
          "output_type": "stream",
          "text": [
            "Epoch 1/50\n",
            "250/250 [==============================] - 0s 2ms/step - loss: 0.3748 - accuracy: 0.8291\n",
            "Epoch 2/50\n",
            "250/250 [==============================] - 0s 2ms/step - loss: 0.3333 - accuracy: 0.8497\n",
            "Epoch 3/50\n",
            "250/250 [==============================] - 0s 2ms/step - loss: 0.3284 - accuracy: 0.8543\n",
            "Epoch 4/50\n",
            "250/250 [==============================] - 0s 2ms/step - loss: 0.3272 - accuracy: 0.8569\n",
            "Epoch 5/50\n",
            "250/250 [==============================] - 0s 2ms/step - loss: 0.3240 - accuracy: 0.8554\n",
            "Epoch 6/50\n",
            "250/250 [==============================] - 0s 2ms/step - loss: 0.3256 - accuracy: 0.8551\n",
            "Epoch 7/50\n",
            "250/250 [==============================] - 0s 2ms/step - loss: 0.3261 - accuracy: 0.8547\n",
            "Epoch 8/50\n",
            "250/250 [==============================] - 0s 2ms/step - loss: 0.3247 - accuracy: 0.8558\n",
            "Epoch 9/50\n",
            "250/250 [==============================] - 0s 2ms/step - loss: 0.3251 - accuracy: 0.8553\n",
            "Epoch 10/50\n",
            "250/250 [==============================] - 0s 2ms/step - loss: 0.3246 - accuracy: 0.8575\n",
            "Epoch 11/50\n",
            "250/250 [==============================] - 0s 2ms/step - loss: 0.3214 - accuracy: 0.8544\n",
            "Epoch 12/50\n",
            "250/250 [==============================] - 0s 2ms/step - loss: 0.3227 - accuracy: 0.8565\n",
            "Epoch 13/50\n",
            "250/250 [==============================] - 0s 2ms/step - loss: 0.3254 - accuracy: 0.8543\n",
            "Epoch 14/50\n",
            "250/250 [==============================] - 0s 2ms/step - loss: 0.3232 - accuracy: 0.8556\n",
            "Epoch 15/50\n",
            "250/250 [==============================] - 0s 2ms/step - loss: 0.3233 - accuracy: 0.8553\n",
            "Epoch 16/50\n",
            "250/250 [==============================] - 0s 2ms/step - loss: 0.3238 - accuracy: 0.8543\n",
            "Epoch 17/50\n",
            "250/250 [==============================] - 0s 2ms/step - loss: 0.3244 - accuracy: 0.8564\n",
            "Epoch 18/50\n",
            "250/250 [==============================] - 0s 2ms/step - loss: 0.3223 - accuracy: 0.8572\n",
            "Epoch 19/50\n",
            "250/250 [==============================] - 0s 2ms/step - loss: 0.3231 - accuracy: 0.8569\n",
            "Epoch 20/50\n",
            "250/250 [==============================] - 0s 2ms/step - loss: 0.3217 - accuracy: 0.8556\n",
            "Epoch 21/50\n",
            "250/250 [==============================] - 0s 2ms/step - loss: 0.3243 - accuracy: 0.8562\n",
            "Epoch 22/50\n",
            "250/250 [==============================] - 0s 2ms/step - loss: 0.3214 - accuracy: 0.8581\n",
            "Epoch 23/50\n",
            "250/250 [==============================] - 0s 2ms/step - loss: 0.3213 - accuracy: 0.8560\n",
            "Epoch 24/50\n",
            "250/250 [==============================] - 0s 2ms/step - loss: 0.3228 - accuracy: 0.8575\n",
            "Epoch 25/50\n",
            "250/250 [==============================] - 0s 2ms/step - loss: 0.3221 - accuracy: 0.8587\n",
            "Epoch 26/50\n",
            "250/250 [==============================] - 0s 2ms/step - loss: 0.3223 - accuracy: 0.8560\n",
            "Epoch 27/50\n",
            "250/250 [==============================] - 0s 2ms/step - loss: 0.3231 - accuracy: 0.8562\n",
            "Epoch 28/50\n",
            "250/250 [==============================] - 0s 2ms/step - loss: 0.3209 - accuracy: 0.8571\n",
            "Epoch 29/50\n",
            "250/250 [==============================] - 0s 2ms/step - loss: 0.3208 - accuracy: 0.8581\n",
            "Epoch 30/50\n",
            "250/250 [==============================] - 0s 2ms/step - loss: 0.3217 - accuracy: 0.8595\n",
            "Epoch 31/50\n",
            "250/250 [==============================] - 0s 2ms/step - loss: 0.3216 - accuracy: 0.8576\n",
            "Epoch 32/50\n",
            "250/250 [==============================] - 0s 2ms/step - loss: 0.3230 - accuracy: 0.8568\n",
            "Epoch 33/50\n",
            "250/250 [==============================] - 0s 2ms/step - loss: 0.3204 - accuracy: 0.8583\n",
            "Epoch 34/50\n",
            "250/250 [==============================] - 0s 2ms/step - loss: 0.3206 - accuracy: 0.8575\n",
            "Epoch 35/50\n",
            "250/250 [==============================] - 0s 2ms/step - loss: 0.3217 - accuracy: 0.8564\n",
            "Epoch 36/50\n",
            "250/250 [==============================] - 0s 2ms/step - loss: 0.3206 - accuracy: 0.8585\n",
            "Epoch 37/50\n",
            "250/250 [==============================] - 0s 2ms/step - loss: 0.3199 - accuracy: 0.8581\n",
            "Epoch 38/50\n",
            "250/250 [==============================] - 0s 2ms/step - loss: 0.3233 - accuracy: 0.8565\n",
            "Epoch 39/50\n",
            "250/250 [==============================] - 0s 2ms/step - loss: 0.3210 - accuracy: 0.8568\n",
            "Epoch 40/50\n",
            "250/250 [==============================] - 0s 2ms/step - loss: 0.3212 - accuracy: 0.8560\n",
            "Epoch 41/50\n",
            "250/250 [==============================] - 0s 2ms/step - loss: 0.3222 - accuracy: 0.8583\n",
            "Epoch 42/50\n",
            "250/250 [==============================] - 0s 2ms/step - loss: 0.3216 - accuracy: 0.8550\n",
            "Epoch 43/50\n",
            "250/250 [==============================] - 0s 2ms/step - loss: 0.3216 - accuracy: 0.8559\n",
            "Epoch 44/50\n",
            "250/250 [==============================] - 0s 2ms/step - loss: 0.3212 - accuracy: 0.8570\n",
            "Epoch 45/50\n",
            "250/250 [==============================] - 0s 2ms/step - loss: 0.3203 - accuracy: 0.8580\n",
            "Epoch 46/50\n",
            "250/250 [==============================] - 0s 2ms/step - loss: 0.3211 - accuracy: 0.8574\n",
            "Epoch 47/50\n",
            "250/250 [==============================] - 0s 2ms/step - loss: 0.3219 - accuracy: 0.8574\n",
            "Epoch 48/50\n",
            "250/250 [==============================] - 0s 2ms/step - loss: 0.3198 - accuracy: 0.8554\n",
            "Epoch 49/50\n",
            "250/250 [==============================] - 0s 2ms/step - loss: 0.3195 - accuracy: 0.8566\n",
            "Epoch 50/50\n",
            "250/250 [==============================] - 0s 2ms/step - loss: 0.3200 - accuracy: 0.8581\n",
            "63/63 [==============================] - 0s 999us/step - loss: 0.3167 - accuracy: 0.8605\n",
            "Test Accuracy: 0.8604999780654907\n",
            "[[927  88]\n",
            " [191 794]]\n",
            "              precision    recall  f1-score   support\n",
            "\n",
            "           0       0.83      0.91      0.87      1015\n",
            "           1       0.90      0.81      0.85       985\n",
            "\n",
            "    accuracy                           0.86      2000\n",
            "   macro avg       0.86      0.86      0.86      2000\n",
            "weighted avg       0.86      0.86      0.86      2000\n",
            "\n"
          ],
          "name": "stdout"
        }
      ]
    },
    {
      "cell_type": "code",
      "metadata": {
        "id": "K4N9iKzH5f5W",
        "colab_type": "code",
        "outputId": "ca45a345-39d1-44f6-dd75-775b520799c2",
        "colab": {
          "base_uri": "https://localhost:8080/",
          "height": 1000
        }
      },
      "source": [
        "DNN(TSNE1,50)"
      ],
      "execution_count": 0,
      "outputs": [
        {
          "output_type": "stream",
          "text": [
            "Epoch 1/50\n",
            "250/250 [==============================] - 0s 2ms/step - loss: 0.5505 - accuracy: 0.7360\n",
            "Epoch 2/50\n",
            "250/250 [==============================] - 0s 2ms/step - loss: 0.4615 - accuracy: 0.7830\n",
            "Epoch 3/50\n",
            "250/250 [==============================] - 0s 2ms/step - loss: 0.4325 - accuracy: 0.7949\n",
            "Epoch 4/50\n",
            "250/250 [==============================] - 0s 2ms/step - loss: 0.4184 - accuracy: 0.8026\n",
            "Epoch 5/50\n",
            "250/250 [==============================] - 0s 2ms/step - loss: 0.4124 - accuracy: 0.8060\n",
            "Epoch 6/50\n",
            "250/250 [==============================] - 0s 2ms/step - loss: 0.4104 - accuracy: 0.8104\n",
            "Epoch 7/50\n",
            "250/250 [==============================] - 0s 2ms/step - loss: 0.4012 - accuracy: 0.8134\n",
            "Epoch 8/50\n",
            "250/250 [==============================] - 0s 2ms/step - loss: 0.3954 - accuracy: 0.8134\n",
            "Epoch 9/50\n",
            "250/250 [==============================] - 0s 2ms/step - loss: 0.3983 - accuracy: 0.8135\n",
            "Epoch 10/50\n",
            "250/250 [==============================] - 0s 2ms/step - loss: 0.3948 - accuracy: 0.8126\n",
            "Epoch 11/50\n",
            "250/250 [==============================] - 0s 2ms/step - loss: 0.3880 - accuracy: 0.8213\n",
            "Epoch 12/50\n",
            "250/250 [==============================] - 0s 2ms/step - loss: 0.3879 - accuracy: 0.8181\n",
            "Epoch 13/50\n",
            "250/250 [==============================] - 0s 2ms/step - loss: 0.3851 - accuracy: 0.8196\n",
            "Epoch 14/50\n",
            "250/250 [==============================] - 0s 2ms/step - loss: 0.3874 - accuracy: 0.8171\n",
            "Epoch 15/50\n",
            "250/250 [==============================] - 0s 2ms/step - loss: 0.3807 - accuracy: 0.8215\n",
            "Epoch 16/50\n",
            "250/250 [==============================] - 0s 2ms/step - loss: 0.3833 - accuracy: 0.8194\n",
            "Epoch 17/50\n",
            "250/250 [==============================] - 0s 2ms/step - loss: 0.3795 - accuracy: 0.8214\n",
            "Epoch 18/50\n",
            "250/250 [==============================] - 0s 2ms/step - loss: 0.3790 - accuracy: 0.8166\n",
            "Epoch 19/50\n",
            "250/250 [==============================] - 0s 2ms/step - loss: 0.3821 - accuracy: 0.8149\n",
            "Epoch 20/50\n",
            "250/250 [==============================] - 0s 2ms/step - loss: 0.3800 - accuracy: 0.8214\n",
            "Epoch 21/50\n",
            "250/250 [==============================] - 0s 2ms/step - loss: 0.3776 - accuracy: 0.8176\n",
            "Epoch 22/50\n",
            "250/250 [==============================] - 0s 2ms/step - loss: 0.3766 - accuracy: 0.8151\n",
            "Epoch 23/50\n",
            "250/250 [==============================] - 0s 2ms/step - loss: 0.3740 - accuracy: 0.8223\n",
            "Epoch 24/50\n",
            "250/250 [==============================] - 0s 2ms/step - loss: 0.3759 - accuracy: 0.8150\n",
            "Epoch 25/50\n",
            "250/250 [==============================] - 0s 2ms/step - loss: 0.3754 - accuracy: 0.8200\n",
            "Epoch 26/50\n",
            "250/250 [==============================] - 0s 2ms/step - loss: 0.3732 - accuracy: 0.8206\n",
            "Epoch 27/50\n",
            "250/250 [==============================] - 0s 2ms/step - loss: 0.3737 - accuracy: 0.8217\n",
            "Epoch 28/50\n",
            "250/250 [==============================] - 0s 2ms/step - loss: 0.3738 - accuracy: 0.8179\n",
            "Epoch 29/50\n",
            "250/250 [==============================] - 0s 2ms/step - loss: 0.3724 - accuracy: 0.8215\n",
            "Epoch 30/50\n",
            "250/250 [==============================] - 0s 2ms/step - loss: 0.3706 - accuracy: 0.8215\n",
            "Epoch 31/50\n",
            "250/250 [==============================] - 0s 2ms/step - loss: 0.3689 - accuracy: 0.8209\n",
            "Epoch 32/50\n",
            "250/250 [==============================] - 0s 2ms/step - loss: 0.3723 - accuracy: 0.8184\n",
            "Epoch 33/50\n",
            "250/250 [==============================] - 0s 2ms/step - loss: 0.3716 - accuracy: 0.8255\n",
            "Epoch 34/50\n",
            "250/250 [==============================] - 0s 2ms/step - loss: 0.3709 - accuracy: 0.8200\n",
            "Epoch 35/50\n",
            "250/250 [==============================] - 0s 2ms/step - loss: 0.3703 - accuracy: 0.8274\n",
            "Epoch 36/50\n",
            "250/250 [==============================] - 0s 2ms/step - loss: 0.3646 - accuracy: 0.8261\n",
            "Epoch 37/50\n",
            "250/250 [==============================] - 0s 2ms/step - loss: 0.3693 - accuracy: 0.8242\n",
            "Epoch 38/50\n",
            "250/250 [==============================] - 0s 2ms/step - loss: 0.3680 - accuracy: 0.8250\n",
            "Epoch 39/50\n",
            "250/250 [==============================] - 0s 2ms/step - loss: 0.3669 - accuracy: 0.8235\n",
            "Epoch 40/50\n",
            "250/250 [==============================] - 0s 2ms/step - loss: 0.3688 - accuracy: 0.8263\n",
            "Epoch 41/50\n",
            "250/250 [==============================] - 0s 2ms/step - loss: 0.3682 - accuracy: 0.8249\n",
            "Epoch 42/50\n",
            "250/250 [==============================] - 0s 2ms/step - loss: 0.3659 - accuracy: 0.8282\n",
            "Epoch 43/50\n",
            "250/250 [==============================] - 0s 2ms/step - loss: 0.3694 - accuracy: 0.8263\n",
            "Epoch 44/50\n",
            "250/250 [==============================] - 0s 2ms/step - loss: 0.3674 - accuracy: 0.8244\n",
            "Epoch 45/50\n",
            "250/250 [==============================] - 0s 2ms/step - loss: 0.3707 - accuracy: 0.8253\n",
            "Epoch 46/50\n",
            "250/250 [==============================] - 0s 2ms/step - loss: 0.3706 - accuracy: 0.8274\n",
            "Epoch 47/50\n",
            "250/250 [==============================] - 0s 2ms/step - loss: 0.3669 - accuracy: 0.8284\n",
            "Epoch 48/50\n",
            "250/250 [==============================] - 0s 2ms/step - loss: 0.3684 - accuracy: 0.8238\n",
            "Epoch 49/50\n",
            "250/250 [==============================] - 0s 2ms/step - loss: 0.3646 - accuracy: 0.8231\n",
            "Epoch 50/50\n",
            "250/250 [==============================] - 0s 2ms/step - loss: 0.3674 - accuracy: 0.8225\n",
            "63/63 [==============================] - 0s 966us/step - loss: 0.3582 - accuracy: 0.8265\n",
            "Test Accuracy: 0.8264999985694885\n",
            "[[830 185]\n",
            " [162 823]]\n",
            "              precision    recall  f1-score   support\n",
            "\n",
            "           0       0.84      0.82      0.83      1015\n",
            "           1       0.82      0.84      0.83       985\n",
            "\n",
            "    accuracy                           0.83      2000\n",
            "   macro avg       0.83      0.83      0.83      2000\n",
            "weighted avg       0.83      0.83      0.83      2000\n",
            "\n"
          ],
          "name": "stdout"
        }
      ]
    },
    {
      "cell_type": "code",
      "metadata": {
        "id": "zqKmaWl45tWY",
        "colab_type": "code",
        "outputId": "499f31cd-aba3-4557-bb3d-fb7fbf402450",
        "colab": {
          "base_uri": "https://localhost:8080/",
          "height": 748
        }
      },
      "source": [
        "DNN(TSNE3D,50)"
      ],
      "execution_count": 0,
      "outputs": [
        {
          "output_type": "stream",
          "text": [
            "Epoch 1/50\n"
          ],
          "name": "stdout"
        },
        {
          "output_type": "error",
          "ename": "ValueError",
          "evalue": "ignored",
          "traceback": [
            "\u001b[0;31m---------------------------------------------------------------------------\u001b[0m",
            "\u001b[0;31mValueError\u001b[0m                                Traceback (most recent call last)",
            "\u001b[0;32m<ipython-input-29-c6e62fb318bb>\u001b[0m in \u001b[0;36m<module>\u001b[0;34m()\u001b[0m\n\u001b[0;32m----> 1\u001b[0;31m \u001b[0mDNN\u001b[0m\u001b[0;34m(\u001b[0m\u001b[0mTSNE3D\u001b[0m\u001b[0;34m,\u001b[0m\u001b[0;36m50\u001b[0m\u001b[0;34m)\u001b[0m\u001b[0;34m\u001b[0m\u001b[0;34m\u001b[0m\u001b[0m\n\u001b[0m",
            "\u001b[0;32m<ipython-input-28-c68dce614ebe>\u001b[0m in \u001b[0;36mDNN\u001b[0;34m(X, Niter)\u001b[0m\n\u001b[1;32m     20\u001b[0m               \u001b[0mloss\u001b[0m\u001b[0;34m=\u001b[0m\u001b[0mtf\u001b[0m\u001b[0;34m.\u001b[0m\u001b[0mkeras\u001b[0m\u001b[0;34m.\u001b[0m\u001b[0mlosses\u001b[0m\u001b[0;34m.\u001b[0m\u001b[0mBinaryCrossentropy\u001b[0m\u001b[0;34m(\u001b[0m\u001b[0;34m)\u001b[0m\u001b[0;34m,\u001b[0m\u001b[0;34m\u001b[0m\u001b[0;34m\u001b[0m\u001b[0m\n\u001b[1;32m     21\u001b[0m               metrics=['accuracy'])\n\u001b[0;32m---> 22\u001b[0;31m  \u001b[0mmodel\u001b[0m\u001b[0;34m.\u001b[0m\u001b[0mfit\u001b[0m\u001b[0;34m(\u001b[0m\u001b[0mX_train\u001b[0m\u001b[0;34m,\u001b[0m \u001b[0my_train\u001b[0m\u001b[0;34m,\u001b[0m \u001b[0mepochs\u001b[0m\u001b[0;34m=\u001b[0m\u001b[0mNiter\u001b[0m\u001b[0;34m)\u001b[0m\u001b[0;34m\u001b[0m\u001b[0;34m\u001b[0m\u001b[0m\n\u001b[0m\u001b[1;32m     23\u001b[0m  \u001b[0mtest_loss\u001b[0m\u001b[0;34m,\u001b[0m \u001b[0mtest_acc\u001b[0m \u001b[0;34m=\u001b[0m \u001b[0mmodel\u001b[0m\u001b[0;34m.\u001b[0m\u001b[0mevaluate\u001b[0m\u001b[0;34m(\u001b[0m\u001b[0mX_test\u001b[0m\u001b[0;34m,\u001b[0m \u001b[0my_test\u001b[0m\u001b[0;34m)\u001b[0m\u001b[0;34m\u001b[0m\u001b[0;34m\u001b[0m\u001b[0m\n\u001b[1;32m     24\u001b[0m  \u001b[0mprint\u001b[0m\u001b[0;34m(\u001b[0m\u001b[0;34m'Test Accuracy:'\u001b[0m\u001b[0;34m,\u001b[0m \u001b[0mtest_acc\u001b[0m\u001b[0;34m)\u001b[0m\u001b[0;34m\u001b[0m\u001b[0;34m\u001b[0m\u001b[0m\n",
            "\u001b[0;32m/usr/local/lib/python3.6/dist-packages/tensorflow/python/keras/engine/training.py\u001b[0m in \u001b[0;36m_method_wrapper\u001b[0;34m(self, *args, **kwargs)\u001b[0m\n\u001b[1;32m     64\u001b[0m   \u001b[0;32mdef\u001b[0m \u001b[0m_method_wrapper\u001b[0m\u001b[0;34m(\u001b[0m\u001b[0mself\u001b[0m\u001b[0;34m,\u001b[0m \u001b[0;34m*\u001b[0m\u001b[0margs\u001b[0m\u001b[0;34m,\u001b[0m \u001b[0;34m**\u001b[0m\u001b[0mkwargs\u001b[0m\u001b[0;34m)\u001b[0m\u001b[0;34m:\u001b[0m\u001b[0;34m\u001b[0m\u001b[0;34m\u001b[0m\u001b[0m\n\u001b[1;32m     65\u001b[0m     \u001b[0;32mif\u001b[0m \u001b[0;32mnot\u001b[0m \u001b[0mself\u001b[0m\u001b[0;34m.\u001b[0m\u001b[0m_in_multi_worker_mode\u001b[0m\u001b[0;34m(\u001b[0m\u001b[0;34m)\u001b[0m\u001b[0;34m:\u001b[0m  \u001b[0;31m# pylint: disable=protected-access\u001b[0m\u001b[0;34m\u001b[0m\u001b[0;34m\u001b[0m\u001b[0m\n\u001b[0;32m---> 66\u001b[0;31m       \u001b[0;32mreturn\u001b[0m \u001b[0mmethod\u001b[0m\u001b[0;34m(\u001b[0m\u001b[0mself\u001b[0m\u001b[0;34m,\u001b[0m \u001b[0;34m*\u001b[0m\u001b[0margs\u001b[0m\u001b[0;34m,\u001b[0m \u001b[0;34m**\u001b[0m\u001b[0mkwargs\u001b[0m\u001b[0;34m)\u001b[0m\u001b[0;34m\u001b[0m\u001b[0;34m\u001b[0m\u001b[0m\n\u001b[0m\u001b[1;32m     67\u001b[0m \u001b[0;34m\u001b[0m\u001b[0m\n\u001b[1;32m     68\u001b[0m     \u001b[0;31m# Running inside `run_distribute_coordinator` already.\u001b[0m\u001b[0;34m\u001b[0m\u001b[0;34m\u001b[0m\u001b[0;34m\u001b[0m\u001b[0m\n",
            "\u001b[0;32m/usr/local/lib/python3.6/dist-packages/tensorflow/python/keras/engine/training.py\u001b[0m in \u001b[0;36mfit\u001b[0;34m(self, x, y, batch_size, epochs, verbose, callbacks, validation_split, validation_data, shuffle, class_weight, sample_weight, initial_epoch, steps_per_epoch, validation_steps, validation_batch_size, validation_freq, max_queue_size, workers, use_multiprocessing)\u001b[0m\n\u001b[1;32m    846\u001b[0m                 batch_size=batch_size):\n\u001b[1;32m    847\u001b[0m               \u001b[0mcallbacks\u001b[0m\u001b[0;34m.\u001b[0m\u001b[0mon_train_batch_begin\u001b[0m\u001b[0;34m(\u001b[0m\u001b[0mstep\u001b[0m\u001b[0;34m)\u001b[0m\u001b[0;34m\u001b[0m\u001b[0;34m\u001b[0m\u001b[0m\n\u001b[0;32m--> 848\u001b[0;31m               \u001b[0mtmp_logs\u001b[0m \u001b[0;34m=\u001b[0m \u001b[0mtrain_function\u001b[0m\u001b[0;34m(\u001b[0m\u001b[0miterator\u001b[0m\u001b[0;34m)\u001b[0m\u001b[0;34m\u001b[0m\u001b[0;34m\u001b[0m\u001b[0m\n\u001b[0m\u001b[1;32m    849\u001b[0m               \u001b[0;31m# Catch OutOfRangeError for Datasets of unknown size.\u001b[0m\u001b[0;34m\u001b[0m\u001b[0;34m\u001b[0m\u001b[0;34m\u001b[0m\u001b[0m\n\u001b[1;32m    850\u001b[0m               \u001b[0;31m# This blocks until the batch has finished executing.\u001b[0m\u001b[0;34m\u001b[0m\u001b[0;34m\u001b[0m\u001b[0;34m\u001b[0m\u001b[0m\n",
            "\u001b[0;32m/usr/local/lib/python3.6/dist-packages/tensorflow/python/eager/def_function.py\u001b[0m in \u001b[0;36m__call__\u001b[0;34m(self, *args, **kwds)\u001b[0m\n\u001b[1;32m    578\u001b[0m         \u001b[0mxla_context\u001b[0m\u001b[0;34m.\u001b[0m\u001b[0mExit\u001b[0m\u001b[0;34m(\u001b[0m\u001b[0;34m)\u001b[0m\u001b[0;34m\u001b[0m\u001b[0;34m\u001b[0m\u001b[0m\n\u001b[1;32m    579\u001b[0m     \u001b[0;32melse\u001b[0m\u001b[0;34m:\u001b[0m\u001b[0;34m\u001b[0m\u001b[0;34m\u001b[0m\u001b[0m\n\u001b[0;32m--> 580\u001b[0;31m       \u001b[0mresult\u001b[0m \u001b[0;34m=\u001b[0m \u001b[0mself\u001b[0m\u001b[0;34m.\u001b[0m\u001b[0m_call\u001b[0m\u001b[0;34m(\u001b[0m\u001b[0;34m*\u001b[0m\u001b[0margs\u001b[0m\u001b[0;34m,\u001b[0m \u001b[0;34m**\u001b[0m\u001b[0mkwds\u001b[0m\u001b[0;34m)\u001b[0m\u001b[0;34m\u001b[0m\u001b[0;34m\u001b[0m\u001b[0m\n\u001b[0m\u001b[1;32m    581\u001b[0m \u001b[0;34m\u001b[0m\u001b[0m\n\u001b[1;32m    582\u001b[0m     \u001b[0;32mif\u001b[0m \u001b[0mtracing_count\u001b[0m \u001b[0;34m==\u001b[0m \u001b[0mself\u001b[0m\u001b[0;34m.\u001b[0m\u001b[0m_get_tracing_count\u001b[0m\u001b[0;34m(\u001b[0m\u001b[0;34m)\u001b[0m\u001b[0;34m:\u001b[0m\u001b[0;34m\u001b[0m\u001b[0;34m\u001b[0m\u001b[0m\n",
            "\u001b[0;32m/usr/local/lib/python3.6/dist-packages/tensorflow/python/eager/def_function.py\u001b[0m in \u001b[0;36m_call\u001b[0;34m(self, *args, **kwds)\u001b[0m\n\u001b[1;32m    625\u001b[0m       \u001b[0;31m# This is the first call of __call__, so we have to initialize.\u001b[0m\u001b[0;34m\u001b[0m\u001b[0;34m\u001b[0m\u001b[0;34m\u001b[0m\u001b[0m\n\u001b[1;32m    626\u001b[0m       \u001b[0minitializers\u001b[0m \u001b[0;34m=\u001b[0m \u001b[0;34m[\u001b[0m\u001b[0;34m]\u001b[0m\u001b[0;34m\u001b[0m\u001b[0;34m\u001b[0m\u001b[0m\n\u001b[0;32m--> 627\u001b[0;31m       \u001b[0mself\u001b[0m\u001b[0;34m.\u001b[0m\u001b[0m_initialize\u001b[0m\u001b[0;34m(\u001b[0m\u001b[0margs\u001b[0m\u001b[0;34m,\u001b[0m \u001b[0mkwds\u001b[0m\u001b[0;34m,\u001b[0m \u001b[0madd_initializers_to\u001b[0m\u001b[0;34m=\u001b[0m\u001b[0minitializers\u001b[0m\u001b[0;34m)\u001b[0m\u001b[0;34m\u001b[0m\u001b[0;34m\u001b[0m\u001b[0m\n\u001b[0m\u001b[1;32m    628\u001b[0m     \u001b[0;32mfinally\u001b[0m\u001b[0;34m:\u001b[0m\u001b[0;34m\u001b[0m\u001b[0;34m\u001b[0m\u001b[0m\n\u001b[1;32m    629\u001b[0m       \u001b[0;31m# At this point we know that the initialization is complete (or less\u001b[0m\u001b[0;34m\u001b[0m\u001b[0;34m\u001b[0m\u001b[0;34m\u001b[0m\u001b[0m\n",
            "\u001b[0;32m/usr/local/lib/python3.6/dist-packages/tensorflow/python/eager/def_function.py\u001b[0m in \u001b[0;36m_initialize\u001b[0;34m(self, args, kwds, add_initializers_to)\u001b[0m\n\u001b[1;32m    504\u001b[0m     self._concrete_stateful_fn = (\n\u001b[1;32m    505\u001b[0m         self._stateful_fn._get_concrete_function_internal_garbage_collected(  # pylint: disable=protected-access\n\u001b[0;32m--> 506\u001b[0;31m             *args, **kwds))\n\u001b[0m\u001b[1;32m    507\u001b[0m \u001b[0;34m\u001b[0m\u001b[0m\n\u001b[1;32m    508\u001b[0m     \u001b[0;32mdef\u001b[0m \u001b[0minvalid_creator_scope\u001b[0m\u001b[0;34m(\u001b[0m\u001b[0;34m*\u001b[0m\u001b[0munused_args\u001b[0m\u001b[0;34m,\u001b[0m \u001b[0;34m**\u001b[0m\u001b[0munused_kwds\u001b[0m\u001b[0;34m)\u001b[0m\u001b[0;34m:\u001b[0m\u001b[0;34m\u001b[0m\u001b[0;34m\u001b[0m\u001b[0m\n",
            "\u001b[0;32m/usr/local/lib/python3.6/dist-packages/tensorflow/python/eager/function.py\u001b[0m in \u001b[0;36m_get_concrete_function_internal_garbage_collected\u001b[0;34m(self, *args, **kwargs)\u001b[0m\n\u001b[1;32m   2444\u001b[0m       \u001b[0margs\u001b[0m\u001b[0;34m,\u001b[0m \u001b[0mkwargs\u001b[0m \u001b[0;34m=\u001b[0m \u001b[0;32mNone\u001b[0m\u001b[0;34m,\u001b[0m \u001b[0;32mNone\u001b[0m\u001b[0;34m\u001b[0m\u001b[0;34m\u001b[0m\u001b[0m\n\u001b[1;32m   2445\u001b[0m     \u001b[0;32mwith\u001b[0m \u001b[0mself\u001b[0m\u001b[0;34m.\u001b[0m\u001b[0m_lock\u001b[0m\u001b[0;34m:\u001b[0m\u001b[0;34m\u001b[0m\u001b[0;34m\u001b[0m\u001b[0m\n\u001b[0;32m-> 2446\u001b[0;31m       \u001b[0mgraph_function\u001b[0m\u001b[0;34m,\u001b[0m \u001b[0m_\u001b[0m\u001b[0;34m,\u001b[0m \u001b[0m_\u001b[0m \u001b[0;34m=\u001b[0m \u001b[0mself\u001b[0m\u001b[0;34m.\u001b[0m\u001b[0m_maybe_define_function\u001b[0m\u001b[0;34m(\u001b[0m\u001b[0margs\u001b[0m\u001b[0;34m,\u001b[0m \u001b[0mkwargs\u001b[0m\u001b[0;34m)\u001b[0m\u001b[0;34m\u001b[0m\u001b[0;34m\u001b[0m\u001b[0m\n\u001b[0m\u001b[1;32m   2447\u001b[0m     \u001b[0;32mreturn\u001b[0m \u001b[0mgraph_function\u001b[0m\u001b[0;34m\u001b[0m\u001b[0;34m\u001b[0m\u001b[0m\n\u001b[1;32m   2448\u001b[0m \u001b[0;34m\u001b[0m\u001b[0m\n",
            "\u001b[0;32m/usr/local/lib/python3.6/dist-packages/tensorflow/python/eager/function.py\u001b[0m in \u001b[0;36m_maybe_define_function\u001b[0;34m(self, args, kwargs)\u001b[0m\n\u001b[1;32m   2775\u001b[0m \u001b[0;34m\u001b[0m\u001b[0m\n\u001b[1;32m   2776\u001b[0m       \u001b[0mself\u001b[0m\u001b[0;34m.\u001b[0m\u001b[0m_function_cache\u001b[0m\u001b[0;34m.\u001b[0m\u001b[0mmissed\u001b[0m\u001b[0;34m.\u001b[0m\u001b[0madd\u001b[0m\u001b[0;34m(\u001b[0m\u001b[0mcall_context_key\u001b[0m\u001b[0;34m)\u001b[0m\u001b[0;34m\u001b[0m\u001b[0;34m\u001b[0m\u001b[0m\n\u001b[0;32m-> 2777\u001b[0;31m       \u001b[0mgraph_function\u001b[0m \u001b[0;34m=\u001b[0m \u001b[0mself\u001b[0m\u001b[0;34m.\u001b[0m\u001b[0m_create_graph_function\u001b[0m\u001b[0;34m(\u001b[0m\u001b[0margs\u001b[0m\u001b[0;34m,\u001b[0m \u001b[0mkwargs\u001b[0m\u001b[0;34m)\u001b[0m\u001b[0;34m\u001b[0m\u001b[0;34m\u001b[0m\u001b[0m\n\u001b[0m\u001b[1;32m   2778\u001b[0m       \u001b[0mself\u001b[0m\u001b[0;34m.\u001b[0m\u001b[0m_function_cache\u001b[0m\u001b[0;34m.\u001b[0m\u001b[0mprimary\u001b[0m\u001b[0;34m[\u001b[0m\u001b[0mcache_key\u001b[0m\u001b[0;34m]\u001b[0m \u001b[0;34m=\u001b[0m \u001b[0mgraph_function\u001b[0m\u001b[0;34m\u001b[0m\u001b[0;34m\u001b[0m\u001b[0m\n\u001b[1;32m   2779\u001b[0m       \u001b[0;32mreturn\u001b[0m \u001b[0mgraph_function\u001b[0m\u001b[0;34m,\u001b[0m \u001b[0margs\u001b[0m\u001b[0;34m,\u001b[0m \u001b[0mkwargs\u001b[0m\u001b[0;34m\u001b[0m\u001b[0;34m\u001b[0m\u001b[0m\n",
            "\u001b[0;32m/usr/local/lib/python3.6/dist-packages/tensorflow/python/eager/function.py\u001b[0m in \u001b[0;36m_create_graph_function\u001b[0;34m(self, args, kwargs, override_flat_arg_shapes)\u001b[0m\n\u001b[1;32m   2665\u001b[0m             \u001b[0marg_names\u001b[0m\u001b[0;34m=\u001b[0m\u001b[0marg_names\u001b[0m\u001b[0;34m,\u001b[0m\u001b[0;34m\u001b[0m\u001b[0;34m\u001b[0m\u001b[0m\n\u001b[1;32m   2666\u001b[0m             \u001b[0moverride_flat_arg_shapes\u001b[0m\u001b[0;34m=\u001b[0m\u001b[0moverride_flat_arg_shapes\u001b[0m\u001b[0;34m,\u001b[0m\u001b[0;34m\u001b[0m\u001b[0;34m\u001b[0m\u001b[0m\n\u001b[0;32m-> 2667\u001b[0;31m             capture_by_value=self._capture_by_value),\n\u001b[0m\u001b[1;32m   2668\u001b[0m         \u001b[0mself\u001b[0m\u001b[0;34m.\u001b[0m\u001b[0m_function_attributes\u001b[0m\u001b[0;34m,\u001b[0m\u001b[0;34m\u001b[0m\u001b[0;34m\u001b[0m\u001b[0m\n\u001b[1;32m   2669\u001b[0m         \u001b[0;31m# Tell the ConcreteFunction to clean up its graph once it goes out of\u001b[0m\u001b[0;34m\u001b[0m\u001b[0;34m\u001b[0m\u001b[0;34m\u001b[0m\u001b[0m\n",
            "\u001b[0;32m/usr/local/lib/python3.6/dist-packages/tensorflow/python/framework/func_graph.py\u001b[0m in \u001b[0;36mfunc_graph_from_py_func\u001b[0;34m(name, python_func, args, kwargs, signature, func_graph, autograph, autograph_options, add_control_dependencies, arg_names, op_return_value, collections, capture_by_value, override_flat_arg_shapes)\u001b[0m\n\u001b[1;32m    979\u001b[0m         \u001b[0m_\u001b[0m\u001b[0;34m,\u001b[0m \u001b[0moriginal_func\u001b[0m \u001b[0;34m=\u001b[0m \u001b[0mtf_decorator\u001b[0m\u001b[0;34m.\u001b[0m\u001b[0munwrap\u001b[0m\u001b[0;34m(\u001b[0m\u001b[0mpython_func\u001b[0m\u001b[0;34m)\u001b[0m\u001b[0;34m\u001b[0m\u001b[0;34m\u001b[0m\u001b[0m\n\u001b[1;32m    980\u001b[0m \u001b[0;34m\u001b[0m\u001b[0m\n\u001b[0;32m--> 981\u001b[0;31m       \u001b[0mfunc_outputs\u001b[0m \u001b[0;34m=\u001b[0m \u001b[0mpython_func\u001b[0m\u001b[0;34m(\u001b[0m\u001b[0;34m*\u001b[0m\u001b[0mfunc_args\u001b[0m\u001b[0;34m,\u001b[0m \u001b[0;34m**\u001b[0m\u001b[0mfunc_kwargs\u001b[0m\u001b[0;34m)\u001b[0m\u001b[0;34m\u001b[0m\u001b[0;34m\u001b[0m\u001b[0m\n\u001b[0m\u001b[1;32m    982\u001b[0m \u001b[0;34m\u001b[0m\u001b[0m\n\u001b[1;32m    983\u001b[0m       \u001b[0;31m# invariant: `func_outputs` contains only Tensors, CompositeTensors,\u001b[0m\u001b[0;34m\u001b[0m\u001b[0;34m\u001b[0m\u001b[0;34m\u001b[0m\u001b[0m\n",
            "\u001b[0;32m/usr/local/lib/python3.6/dist-packages/tensorflow/python/eager/def_function.py\u001b[0m in \u001b[0;36mwrapped_fn\u001b[0;34m(*args, **kwds)\u001b[0m\n\u001b[1;32m    439\u001b[0m         \u001b[0;31m# __wrapped__ allows AutoGraph to swap in a converted function. We give\u001b[0m\u001b[0;34m\u001b[0m\u001b[0;34m\u001b[0m\u001b[0;34m\u001b[0m\u001b[0m\n\u001b[1;32m    440\u001b[0m         \u001b[0;31m# the function a weak reference to itself to avoid a reference cycle.\u001b[0m\u001b[0;34m\u001b[0m\u001b[0;34m\u001b[0m\u001b[0;34m\u001b[0m\u001b[0m\n\u001b[0;32m--> 441\u001b[0;31m         \u001b[0;32mreturn\u001b[0m \u001b[0mweak_wrapped_fn\u001b[0m\u001b[0;34m(\u001b[0m\u001b[0;34m)\u001b[0m\u001b[0;34m.\u001b[0m\u001b[0m__wrapped__\u001b[0m\u001b[0;34m(\u001b[0m\u001b[0;34m*\u001b[0m\u001b[0margs\u001b[0m\u001b[0;34m,\u001b[0m \u001b[0;34m**\u001b[0m\u001b[0mkwds\u001b[0m\u001b[0;34m)\u001b[0m\u001b[0;34m\u001b[0m\u001b[0;34m\u001b[0m\u001b[0m\n\u001b[0m\u001b[1;32m    442\u001b[0m     \u001b[0mweak_wrapped_fn\u001b[0m \u001b[0;34m=\u001b[0m \u001b[0mweakref\u001b[0m\u001b[0;34m.\u001b[0m\u001b[0mref\u001b[0m\u001b[0;34m(\u001b[0m\u001b[0mwrapped_fn\u001b[0m\u001b[0;34m)\u001b[0m\u001b[0;34m\u001b[0m\u001b[0;34m\u001b[0m\u001b[0m\n\u001b[1;32m    443\u001b[0m \u001b[0;34m\u001b[0m\u001b[0m\n",
            "\u001b[0;32m/usr/local/lib/python3.6/dist-packages/tensorflow/python/framework/func_graph.py\u001b[0m in \u001b[0;36mwrapper\u001b[0;34m(*args, **kwargs)\u001b[0m\n\u001b[1;32m    966\u001b[0m           \u001b[0;32mexcept\u001b[0m \u001b[0mException\u001b[0m \u001b[0;32mas\u001b[0m \u001b[0me\u001b[0m\u001b[0;34m:\u001b[0m  \u001b[0;31m# pylint:disable=broad-except\u001b[0m\u001b[0;34m\u001b[0m\u001b[0;34m\u001b[0m\u001b[0m\n\u001b[1;32m    967\u001b[0m             \u001b[0;32mif\u001b[0m \u001b[0mhasattr\u001b[0m\u001b[0;34m(\u001b[0m\u001b[0me\u001b[0m\u001b[0;34m,\u001b[0m \u001b[0;34m\"ag_error_metadata\"\u001b[0m\u001b[0;34m)\u001b[0m\u001b[0;34m:\u001b[0m\u001b[0;34m\u001b[0m\u001b[0;34m\u001b[0m\u001b[0m\n\u001b[0;32m--> 968\u001b[0;31m               \u001b[0;32mraise\u001b[0m \u001b[0me\u001b[0m\u001b[0;34m.\u001b[0m\u001b[0mag_error_metadata\u001b[0m\u001b[0;34m.\u001b[0m\u001b[0mto_exception\u001b[0m\u001b[0;34m(\u001b[0m\u001b[0me\u001b[0m\u001b[0;34m)\u001b[0m\u001b[0;34m\u001b[0m\u001b[0;34m\u001b[0m\u001b[0m\n\u001b[0m\u001b[1;32m    969\u001b[0m             \u001b[0;32melse\u001b[0m\u001b[0;34m:\u001b[0m\u001b[0;34m\u001b[0m\u001b[0;34m\u001b[0m\u001b[0m\n\u001b[1;32m    970\u001b[0m               \u001b[0;32mraise\u001b[0m\u001b[0;34m\u001b[0m\u001b[0;34m\u001b[0m\u001b[0m\n",
            "\u001b[0;31mValueError\u001b[0m: in user code:\n\n    /usr/local/lib/python3.6/dist-packages/tensorflow/python/keras/engine/training.py:571 train_function  *\n        outputs = self.distribute_strategy.run(\n    /usr/local/lib/python3.6/dist-packages/tensorflow/python/distribute/distribute_lib.py:951 run  **\n        return self._extended.call_for_each_replica(fn, args=args, kwargs=kwargs)\n    /usr/local/lib/python3.6/dist-packages/tensorflow/python/distribute/distribute_lib.py:2290 call_for_each_replica\n        return self._call_for_each_replica(fn, args, kwargs)\n    /usr/local/lib/python3.6/dist-packages/tensorflow/python/distribute/distribute_lib.py:2649 _call_for_each_replica\n        return fn(*args, **kwargs)\n    /usr/local/lib/python3.6/dist-packages/tensorflow/python/keras/engine/training.py:533 train_step  **\n        y, y_pred, sample_weight, regularization_losses=self.losses)\n    /usr/local/lib/python3.6/dist-packages/tensorflow/python/keras/engine/compile_utils.py:205 __call__\n        loss_value = loss_obj(y_t, y_p, sample_weight=sw)\n    /usr/local/lib/python3.6/dist-packages/tensorflow/python/keras/losses.py:143 __call__\n        losses = self.call(y_true, y_pred)\n    /usr/local/lib/python3.6/dist-packages/tensorflow/python/keras/losses.py:246 call\n        return self.fn(y_true, y_pred, **self._fn_kwargs)\n    /usr/local/lib/python3.6/dist-packages/tensorflow/python/keras/losses.py:1595 binary_crossentropy\n        K.binary_crossentropy(y_true, y_pred, from_logits=from_logits), axis=-1)\n    /usr/local/lib/python3.6/dist-packages/tensorflow/python/keras/backend.py:4692 binary_crossentropy\n        return nn.sigmoid_cross_entropy_with_logits(labels=target, logits=output)\n    /usr/local/lib/python3.6/dist-packages/tensorflow/python/ops/nn_impl.py:172 sigmoid_cross_entropy_with_logits\n        (logits.get_shape(), labels.get_shape()))\n\n    ValueError: logits and labels must have the same shape ((32, 2) vs (32, 1))\n"
          ]
        }
      ]
    },
    {
      "cell_type": "code",
      "metadata": {
        "id": "JaQu2UjRYmQv",
        "colab_type": "code",
        "outputId": "95c2791b-6356-4e72-f6a3-7ce7ed0e09fa",
        "colab": {
          "base_uri": "https://localhost:8080/",
          "height": 681
        }
      },
      "source": [
        "import numpy as np\n",
        "import matplotlib.pyplot as plt\n",
        "from matplotlib.colors import ListedColormap\n",
        "from sklearn import neighbors, datasets\n",
        "\n",
        "n_neighbors=5\n",
        "h =100\n",
        "cmap_light = ListedColormap(['#FFAAAA', '#AAFFAA'])\n",
        "cmap_bold = ListedColormap(['#FF0000', '#00FF00'])\n",
        "X=X_ltsa\n",
        "y=label_y\n",
        "for weights in ['uniform', 'distance']:\n",
        "    # we create an instance of Neighbours Classifier and fit the data.\n",
        "    clf = neighbors.KNeighborsClassifier(n_neighbors, weights=weights)\n",
        "    clf.fit(X, y)\n",
        "\n",
        "    # Plot the decision boundary. For that, we will assign a color to each\n",
        "    # point in the mesh [x_min, x_max]x[y_min, y_max].\n",
        "    x_min, x_max = X[:, 0].min() - 1, X[:, 0].max() + 1\n",
        "    y_min, y_max = X[:, 1].min() - 1, X[:, 1].max() + 1\n",
        "    xx, yy = np.meshgrid(np.arange(x_min, x_max, h),\n",
        "                         np.arange(y_min, y_max, h))\n",
        "    Z = clf.predict(np.c_[xx.ravel(), yy.ravel()])\n",
        "\n",
        "    # Put the result into a color plot\n",
        "    Z = Z.reshape(xx.shape)\n",
        "    plt.figure()\n",
        "    plt.pcolormesh(xx, yy, Z, cmap=cmap_light)\n",
        "\n",
        "    # Plot also the training points\n",
        "    plt.scatter(X[:, 0], X[:, 1], c=y, cmap=cmap_bold)\n",
        "    plt.xlim(xx.min(), xx.max())\n",
        "    plt.ylim(yy.min(), yy.max())\n",
        "    plt.title(\"2-Class classification (k = %i, weights = '%s')\"\n",
        "              % (n_neighbors, weights))\n",
        "\n",
        "plt.show()"
      ],
      "execution_count": 0,
      "outputs": [
        {
          "output_type": "stream",
          "text": [
            "/usr/local/lib/python3.6/dist-packages/ipykernel_launcher.py:15: DataConversionWarning: A column-vector y was passed when a 1d array was expected. Please change the shape of y to (n_samples, ), for example using ravel().\n",
            "  from ipykernel import kernelapp as app\n",
            "/usr/local/lib/python3.6/dist-packages/ipykernel_launcher.py:32: UserWarning: Attempting to set identical left == right == -1.6989950353291654 results in singular transformations; automatically expanding.\n",
            "/usr/local/lib/python3.6/dist-packages/ipykernel_launcher.py:33: UserWarning: Attempting to set identical bottom == top == -1.7004963867914238 results in singular transformations; automatically expanding.\n",
            "/usr/local/lib/python3.6/dist-packages/ipykernel_launcher.py:15: DataConversionWarning: A column-vector y was passed when a 1d array was expected. Please change the shape of y to (n_samples, ), for example using ravel().\n",
            "  from ipykernel import kernelapp as app\n",
            "/usr/local/lib/python3.6/dist-packages/ipykernel_launcher.py:32: UserWarning: Attempting to set identical left == right == -1.6989950353291654 results in singular transformations; automatically expanding.\n",
            "/usr/local/lib/python3.6/dist-packages/ipykernel_launcher.py:33: UserWarning: Attempting to set identical bottom == top == -1.7004963867914238 results in singular transformations; automatically expanding.\n"
          ],
          "name": "stderr"
        },
        {
          "output_type": "display_data",
          "data": {
            "image/png": "[encoded data removed]",
            "text/plain": [
              "<Figure size 432x288 with 1 Axes>"
            ]
          },
          "metadata": {
            "tags": [],
            "needs_background": "light"
          }
        },
        {
          "output_type": "display_data",
          "data": {
            "image/png": "[encoded data removed]",
            "text/plain": [
              "<Figure size 432x288 with 1 Axes>"
            ]
          },
          "metadata": {
            "tags": [],
            "needs_background": "light"
          }
        }
      ]
    }
  ]
}